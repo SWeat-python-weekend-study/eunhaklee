{
  "nbformat": 4,
  "nbformat_minor": 0,
  "metadata": {
    "colab": {
      "name": "W1-Practice1.ipynb",
      "provenance": [],
      "authorship_tag": "ABX9TyO/AuRcSWdWxkdG3xT0sze6",
      "include_colab_link": true
    },
    "kernelspec": {
      "name": "python3",
      "display_name": "Python 3"
    }
  },
  "cells": [
    {
      "cell_type": "markdown",
      "metadata": {
        "id": "view-in-github",
        "colab_type": "text"
      },
      "source": [
        "<a href=\"https://colab.research.google.com/github/SWeat-python-weekend-study/eunhaklee/blob/master/W1_Practice1.ipynb\" target=\"_parent\"><img src=\"https://colab.research.google.com/assets/colab-badge.svg\" alt=\"Open In Colab\"/></a>"
      ]
    },
    {
      "cell_type": "markdown",
      "metadata": {
        "id": "tE7xmd9aRv5S"
      },
      "source": [
        "# SWeat 파이썬 W1-1\r\n",
        "notebook 테스트입니다"
      ]
    },
    {
      "cell_type": "code",
      "metadata": {
        "id": "lTAYeOZsRvWg"
      },
      "source": [
        ""
      ],
      "execution_count": null,
      "outputs": []
    }
  ]
}