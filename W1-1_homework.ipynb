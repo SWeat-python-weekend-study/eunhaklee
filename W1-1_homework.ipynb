{
  "nbformat": 4,
  "nbformat_minor": 0,
  "metadata": {
    "language_info": {
      "codemirror_mode": {
        "name": "ipython",
        "version": 3
      },
      "file_extension": ".py",
      "mimetype": "text/x-python",
      "name": "python",
      "nbconvert_exporter": "python",
      "pygments_lexer": "ipython3",
      "version": "3.8.0-final"
    },
    "orig_nbformat": 2,
    "kernelspec": {
      "name": "python3",
      "display_name": "Python 3",
      "language": "python"
    },
    "colab": {
      "name": "W1-1_homework.ipynb",
      "provenance": [],
      "collapsed_sections": [],
      "toc_visible": true
    }
  },
  "cells": [
    {
      "cell_type": "markdown",
      "metadata": {
        "id": "6n4u1WOyvdir"
      },
      "source": [
        "# SWeat 파이썬 W1-1 Homework\n",
        "강의 후 과제 자료입니다"
      ]
    },
    {
      "cell_type": "markdown",
      "metadata": {
        "id": "214baT-2vdis"
      },
      "source": [
        "## 1. 마크다운 실습"
      ]
    },
    {
      "cell_type": "markdown",
      "metadata": {
        "id": "4WmrtRAZvdit"
      },
      "source": [
        "### Head 3\n",
        "#### Head 4\n",
        "- line with linebreak\n",
        "but not really\n",
        "\n",
        "- line with \n",
        "\n",
        "double linebreak\n",
        "\n",
        "and *a laying string* with **a bold string**.\n",
        "Don't forget <u>underlined string</u>\n",
        "\n",
        "---\n",
        "\n",
        "Separated column"
      ]
    },
    {
      "cell_type": "markdown",
      "metadata": {
        "id": "_GT6Phatvdit"
      },
      "source": [
        "## 2. Slide p.48: Lambda 함수"
      ]
    },
    {
      "cell_type": "code",
      "metadata": {
        "id": "B5ax4anJvdit"
      },
      "source": [
        "def processor(string, code):\n",
        "    functions = {\n",
        "        'U': lambda x: x.upper(),\n",
        "        'L': lambda x: x.lower(),\n",
        "        'C': lambda x: x.capitalize()\n",
        "    }\n",
        "\n",
        "    return functions[code](string)"
      ],
      "execution_count": 1,
      "outputs": []
    },
    {
      "cell_type": "code",
      "metadata": {
        "colab": {
          "base_uri": "https://localhost:8080/"
        },
        "id": "i5gLBxBcvdiu",
        "outputId": "a65b9a84-e342-4086-f1cd-6f09001c6f1b"
      },
      "source": [
        "print(processor(\"hello\", \"U\"))\n",
        "print(processor(\"hello\", \"L\"))\n",
        "print(processor(\"hello\", \"C\"))"
      ],
      "execution_count": 2,
      "outputs": [
        {
          "output_type": "stream",
          "name": "stdout",
          "text": [
            "HELLO\nhello\nHello\n"
          ]
        }
      ]
    },
    {
      "cell_type": "code",
      "metadata": {
        "id": "CzRM6oGkvdiv"
      },
      "source": [
        "def processor(string, code):\n",
        "    return {\n",
        "        'U': lambda x: x.upper(),\n",
        "        'L': lambda x: x.lower(),\n",
        "        'C': lambda x: x.capitalize()\n",
        "    } [code](string)"
      ],
      "execution_count": 3,
      "outputs": []
    },
    {
      "cell_type": "code",
      "metadata": {
        "colab": {
          "base_uri": "https://localhost:8080/"
        },
        "id": "EjkUiDhyvdiv",
        "outputId": "fda7319f-ffb2-4080-f90c-73c5517fe876"
      },
      "source": [
        "print(processor(\"hello\", \"U\"))\n",
        "print(processor(\"hello\", \"L\"))\n",
        "print(processor(\"hello\", \"C\"))"
      ],
      "execution_count": 4,
      "outputs": [
        {
          "output_type": "stream",
          "name": "stdout",
          "text": [
            "HELLO\nhello\nHello\n"
          ]
        }
      ]
    },
    {
      "cell_type": "markdown",
      "metadata": {
        "id": "GBJ9l1Vmvk9B"
      },
      "source": [
        "## 3. 서울시 인구 통계 분석: CSV 파일 처리하기"
      ]
    },
    {
      "cell_type": "code",
      "metadata": {
        "colab": {
          "base_uri": "https://localhost:8080/"
        },
        "id": "vOVwHjmFvdiv",
        "outputId": "7a37a524-3546-4038-f83a-c921c3279290"
      },
      "source": [
        "seoul_data = None\n",
        "\n",
        "with open(\"../seoul_people_report.csv\", \"r\", encoding=\"UTF-8\") as f:\n",
        "    seoul_data = f.readlines()\n",
        "\n",
        "print(seoul_data)\n",
        "print(len(seoul_data))"
      ],
      "execution_count": 6,
      "outputs": [
        {
          "output_type": "error",
          "ename": "SyntaxError",
          "evalue": "invalid syntax (<ipython-input-6-9e81e0b682ff>, line 3)",
          "traceback": [
            "\u001b[0;36m  File \u001b[0;32m\"<ipython-input-6-9e81e0b682ff>\"\u001b[0;36m, line \u001b[0;32m3\u001b[0m\n\u001b[0;31m    with open../(\"seoul_people_report.csv\", \"r\", encoding=\"UTF-8\") as f:\u001b[0m\n\u001b[0m              ^\u001b[0m\n\u001b[0;31mSyntaxError\u001b[0m\u001b[0;31m:\u001b[0m invalid syntax\n"
          ]
        }
      ]
    },
    {
      "cell_type": "code",
      "metadata": {
        "colab": {
          "base_uri": "https://localhost:8080/"
        },
        "id": "xUoevUPBwCaZ",
        "outputId": "ff8b24fe-f2f8-4559-f534-142ce5aa113a"
      },
      "source": [
        "group_by_state = dict()\r\n",
        "\r\n",
        "for line in seoul_data:\r\n",
        "    state, whole, men, women, foreigners, elders = line[:-1].split(\",\")\r\n",
        "\r\n",
        "    if state == \"자치구\" or state == \"합계\":\r\n",
        "        continue\r\n",
        "\r\n",
        "    if state in group_by_state:\r\n",
        "        raise IndexError(\"구 `{}`의 데이터가 중복입니다\".format(state))\r\n",
        "\r\n",
        "    group_by_state[state] = {\r\n",
        "        \"whole\": int(whole),\r\n",
        "        \"men\": int(men),\r\n",
        "        \"women\": int(women),\r\n",
        "        \"foreigners\": int(foreigners),\r\n",
        "        \"elders\": int(elders)\r\n",
        "    }\r\n",
        "\r\n",
        "print(group_by_state)\r\n",
        "print(len(group_by_state.keys()))"
      ],
      "execution_count": 26,
      "outputs": [
        {
          "output_type": "stream",
          "text": [
            "{'종로구': {'whole': 161984, 'men': 78271, 'women': 83713, 'foreigners': 10767, 'elders': 28073}, '중구': {'whole': 136469, 'men': 66769, 'women': 69700, 'foreigners': 10294, 'elders': 23794}, '용산구': {'whole': 246165, 'men': 119961, 'women': 126204, 'foreigners': 16586, 'elders': 39439}, '성동구': {'whole': 307193, 'men': 149891, 'women': 157302, 'foreigners': 8151, 'elders': 44728}, '광진구': {'whole': 365990, 'men': 176226, 'women': 189764, 'foreigners': 15573, 'elders': 48989}, '동대문구': {'whole': 362793, 'men': 178202, 'women': 184591, 'foreigners': 16637, 'elders': 60367}, '중랑구': {'whole': 400678, 'men': 198122, 'women': 202556, 'foreigners': 5059, 'elders': 66764}, '성북구': {'whole': 454532, 'men': 218561, 'women': 235971, 'foreigners': 12038, 'elders': 72172}, '강북구': {'whole': 316750, 'men': 154141, 'women': 162609, 'foreigners': 3765, 'elders': 61660}, '도봉구': {'whole': 333495, 'men': 162774, 'women': 170721, 'foreigners': 2257, 'elders': 60023}, '노원구': {'whole': 535495, 'men': 258696, 'women': 276799, 'foreigners': 4458, 'elders': 82682}, '은평구': {'whole': 482509, 'men': 231953, 'women': 250556, 'foreigners': 4490, 'elders': 82245}, '서대문구': {'whole': 325875, 'men': 154502, 'women': 171373, 'foreigners': 13233, 'elders': 53038}, '마포구': {'whole': 386086, 'men': 181204, 'women': 204882, 'foreigners': 11516, 'elders': 53283}, '양천구': {'whole': 460532, 'men': 226109, 'women': 234423, 'foreigners': 4193, 'elders': 62761}, '강서구': {'whole': 595703, 'men': 288134, 'women': 307569, 'foreigners': 6401, 'elders': 85992}, '구로구': {'whole': 438308, 'men': 218970, 'women': 219338, 'foreigners': 32471, 'elders': 67432}, '금천구': {'whole': 251370, 'men': 128643, 'women': 122727, 'foreigners': 18787, 'elders': 38508}, '영등포구': {'whole': 404766, 'men': 202617, 'women': 202149, 'foreigners': 32863, 'elders': 59373}, '동작구': {'whole': 407802, 'men': 196943, 'women': 210859, 'foreigners': 12788, 'elders': 63378}, '관악구': {'whole': 516662, 'men': 258982, 'women': 257680, 'foreigners': 17288, 'elders': 76664}, '서초구': {'whole': 434801, 'men': 207877, 'women': 226924, 'foreigners': 4233, 'elders': 58332}, '강남구': {'whole': 549898, 'men': 263163, 'women': 286735, 'foreigners': 5094, 'elders': 72602}, '송파구': {'whole': 680883, 'men': 329058, 'women': 351825, 'foreigners': 6788, 'elders': 89539}, '강동구': {'whole': 457042, 'men': 225226, 'women': 231816, 'foreigners': 4396, 'elders': 66401}}\n",
            "25\n"
          ],
          "name": "stdout"
        }
      ]
    },
    {
      "cell_type": "code",
      "metadata": {
        "colab": {
          "base_uri": "https://localhost:8080/"
        },
        "id": "qaJvFqtwwtEZ",
        "outputId": "bce2e931-4d88-4948-d7bc-e6238855c138"
      },
      "source": [
        "for state, data in group_by_state.items():\n",
        "    whole, _, _, foreigners, elders = data.values()\n",
        "    group_by_state[state][\"rate_elders\"] = elders / whole\n",
        "    group_by_state[state][\"rate_foreigners\"] = foreigners / whole\n",
        "\n",
        "print(group_by_state)"
      ],
      "execution_count": 29,
      "outputs": [
        {
          "output_type": "stream",
          "text": [
            "{'종로구': {'rate_elders': 0.17330724022125643, 'rate_foreigners': 0.06646952785460293}, '중구': {'rate_elders': 0.17435461533388535, 'rate_foreigners': 0.07543105027515407}, '용산구': {'rate_elders': 0.1602136778177239, 'rate_foreigners': 0.06737757195377085}, '성동구': {'rate_elders': 0.14560227609353077, 'rate_foreigners': 0.026533807736504413}, '광진구': {'rate_elders': 0.13385338397223967, 'rate_foreigners': 0.04255034290554387}, '동대문구': {'rate_elders': 0.16639516197942078, 'rate_foreigners': 0.04585810641329904}, '중랑구': {'rate_elders': 0.1666275662751636, 'rate_foreigners': 0.012626098762597397}, '성북구': {'rate_elders': 0.1587830999797594, 'rate_foreigners': 0.026484383937764557}, '강북구': {'rate_elders': 0.19466456195737963, 'rate_foreigners': 0.011886345698500394}, '도봉구': {'rate_elders': 0.17998170887119747, 'rate_foreigners': 0.006767717656936386}, '노원구': {'rate_elders': 0.15440293560163962, 'rate_foreigners': 0.008325007703153158}, '은평구': {'rate_elders': 0.17045277911914597, 'rate_foreigners': 0.009305525907288776}, '서대문구': {'rate_elders': 0.16275565784426543, 'rate_foreigners': 0.04060759493670886}, '마포구': {'rate_elders': 0.13800811218225992, 'rate_foreigners': 0.029827551374564217}, '양천구': {'rate_elders': 0.13627934649492326, 'rate_foreigners': 0.009104687622141349}, '강서구': {'rate_elders': 0.14435381389719373, 'rate_foreigners': 0.010745287500650492}, '구로구': {'rate_elders': 0.15384615384615385, 'rate_foreigners': 0.07408260857661736}, '금천구': {'rate_elders': 0.15319250507220433, 'rate_foreigners': 0.07473843338504993}, '영등포구': {'rate_elders': 0.1466847511895762, 'rate_foreigners': 0.08119011972349456}, '동작구': {'rate_elders': 0.155413656627481, 'rate_foreigners': 0.03135835528025856}, '관악구': {'rate_elders': 0.14838327571990972, 'rate_foreigners': 0.033460947389202224}, '서초구': {'rate_elders': 0.13415792511976743, 'rate_foreigners': 0.009735488188849612}, '강남구': {'rate_elders': 0.132028121578911, 'rate_foreigners': 0.00926353614670357}, '송파구': {'rate_elders': 0.13150423787934198, 'rate_foreigners': 0.009969407372485434}, '강동구': {'rate_elders': 0.14528424083563435, 'rate_foreigners': 0.009618372053334268}}\n"
          ],
          "name": "stdout"
        }
      ]
    }
  ]
}