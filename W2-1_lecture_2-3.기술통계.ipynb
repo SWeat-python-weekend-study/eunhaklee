{
  "nbformat": 4,
  "nbformat_minor": 0,
  "metadata": {
    "kernelspec": {
      "display_name": "Python 3",
      "language": "python",
      "name": "python3"
    },
    "language_info": {
      "codemirror_mode": {
        "name": "ipython",
        "version": 3
      },
      "file_extension": ".py",
      "mimetype": "text/x-python",
      "name": "python",
      "nbconvert_exporter": "python",
      "pygments_lexer": "ipython3",
      "version": "3.8.0-final"
    },
    "latex_envs": {
      "LaTeX_envs_menu_present": true,
      "autoclose": false,
      "autocomplete": true,
      "bibliofile": "biblio.bib",
      "cite_by": "apalike",
      "current_citInitial": 1,
      "eqLabelWithNumbers": true,
      "eqNumInitial": 1,
      "hotkeys": {
        "equation": "Ctrl-E",
        "itemize": "Ctrl-I"
      },
      "labels_anchors": false,
      "latex_user_defs": false,
      "report_style_numbering": false,
      "user_envs_cfg": false
    },
    "colab": {
      "name": "2-3.기술통계.ipynb",
      "provenance": [],
      "include_colab_link": true
    }
  },
  "cells": [
    {
      "cell_type": "markdown",
      "metadata": {
        "id": "view-in-github",
        "colab_type": "text"
      },
      "source": [
        "<a href=\"https://colab.research.google.com/github/SWeat-python-weekend-study/tutor_code/blob/lesson2-1/2-3.%EA%B8%B0%EC%88%A0%ED%86%B5%EA%B3%84.ipynb\" target=\"_parent\"><img src=\"https://colab.research.google.com/assets/colab-badge.svg\" alt=\"Open In Colab\"/></a>"
      ]
    },
    {
      "cell_type": "markdown",
      "metadata": {
        "school_cell_uuid": "f1e120d9f1574e31aa1b43d5d7530b1e",
        "id": "cPlB0xj9lLCg"
      },
      "source": [
        "# 2-3. 기술 통계"
      ]
    },
    {
      "cell_type": "markdown",
      "metadata": {
        "id": "dskMJh0GlLCq"
      },
      "source": [
        "```{margin}\n",
        "기술 통계\n",
        "```"
      ]
    },
    {
      "cell_type": "markdown",
      "metadata": {
        "school_cell_uuid": "e0cf86dc37194b9caee4bb8b1d0c2478",
        "id": "Mb5qI4MdlLCs"
      },
      "source": [
        "넘파이는 다음과 같은 데이터 집합에 대해 간단한 통계를 계산하는 함수를 제공한다. 이러한 값들을 통틀어 **기술 통계(descriptive statistics)**라고 한다.\n",
        "\n",
        "* 데이터의 개수(count)\n",
        "* 평균(mean, average)\n",
        "* 분산(variance)\n",
        "* 표준 편차(standard deviation)\n",
        "* 최댓값(maximum)\n",
        "* 최솟값(minimum)\n",
        "* 중앙값(median)\n",
        "* 사분위수(quartile)"
      ]
    },
    {
      "cell_type": "markdown",
      "metadata": {
        "school_cell_uuid": "5007a8ec08214ee9b2e5d84dc6628678",
        "id": "bFh6xhGFlLCs"
      },
      "source": [
        "예를 들어 다음과 같은 데이터 $x$가 있다고 하자.\n",
        "\n",
        "$$\n",
        "x = \\{\n",
        "18,   5,  10,  23,  19,  -8,  10,   0,   0,   5,   2,  15,   8,\n",
        "2,   5,   4,  15,  -1,   4,  -7, -24,   7,   9,  -6,  23, -13\n",
        "\\}\n",
        "$$\n",
        "             \n",
        "\n",
        "$x$를 이루는 숫자 하나하나를 수학 기호로는 $x_1, x_2, \\cdots, x_N$처럼 표시한다. 위 예에서 $x_1 = 18$, $x_2 = 5$이다.\n",
        "\n",
        "넘파이에서는 이러한 데이터를 1차원 배열로 구현한다."
      ]
    },
    {
      "cell_type": "code",
      "metadata": {
        "id": "xu7_jcVtlX8l"
      },
      "source": [
        "import numpy as np"
      ],
      "execution_count": 1,
      "outputs": []
    },
    {
      "cell_type": "code",
      "metadata": {
        "school_cell_uuid": "46bb43f2d2924332ab0f3f09c460c32f",
        "id": "oh4taynPlLCt"
      },
      "source": [
        "x = np.array([18,   5,  10,  23,  19,  -8,  10,   0,   0,   5,   2,  15,   8,\n",
        "              2,   5,   4,  15,  -1,   4,  -7, -24,   7,   9,  -6,  23, -13])"
      ],
      "execution_count": 2,
      "outputs": []
    },
    {
      "cell_type": "markdown",
      "metadata": {
        "school_cell_uuid": "584cc6f1767f42049e5c45354c6349c4",
        "id": "ya7mlQrilLCv"
      },
      "source": [
        "### 데이터의 개수"
      ]
    },
    {
      "cell_type": "markdown",
      "metadata": {
        "school_cell_uuid": "3afcea2fe96f4df4a325ae8cf0962dff",
        "id": "5Cv7MBFOlLCv"
      },
      "source": [
        "데이터의 개수는 `len` 명령으로 구할 수 있다."
      ]
    },
    {
      "cell_type": "code",
      "metadata": {
        "school_cell_uuid": "6e12faa9857c455aa84f2cea6b58a036",
        "id": "iR_ZophalLCw"
      },
      "source": [
        "len(x)  # 갯수"
      ],
      "execution_count": 3,
      "outputs": [
        {
          "output_type": "execute_result",
          "data": {
            "text/plain": [
              "26"
            ]
          },
          "metadata": {},
          "execution_count": 3
        }
      ]
    },
    {
      "cell_type": "markdown",
      "metadata": {
        "school_cell_uuid": "bafea7976594466d8a34b0623bf48a88",
        "id": "H1AznyBVlLCy"
      },
      "source": [
        "### 표본 평균"
      ]
    },
    {
      "cell_type": "markdown",
      "metadata": {
        "school_cell_uuid": "2e4d88614dc24a7a8262f665077ae369",
        "id": "uFkUrrQHlLCy"
      },
      "source": [
        "평균을 통계용어로는 **표본 평균**(sample average, sample mean)이라고 한다. $x$ 데이터에 대한 표본 평균은 $\\bar{x}$라고 표시하며 다음과 같이 계산한다. 이 식에서 $N$은 데이터의 개수이다.\n",
        "\n",
        "$$ \\bar{x} = \\dfrac{1}{N}\\sum_{i=1}^N x_i $$"
      ]
    },
    {
      "cell_type": "code",
      "metadata": {
        "school_cell_uuid": "b34bb1912f7c476f82c3e0fd3d6ae5b0",
        "id": "uH-75ykPlLCz"
      },
      "source": [
        "np.mean(x)  # 평균"
      ],
      "execution_count": 21,
      "outputs": [
        {
          "output_type": "execute_result",
          "data": {
            "text/plain": [
              "4.8076923076923075"
            ]
          },
          "metadata": {},
          "execution_count": 21
        }
      ]
    },
    {
      "cell_type": "markdown",
      "metadata": {
        "school_cell_uuid": "4db8c547c72c40d18053e301146628a4",
        "id": "ApqTtUl2lLCz"
      },
      "source": [
        "### 표본 분산"
      ]
    },
    {
      "cell_type": "markdown",
      "metadata": {
        "school_cell_uuid": "2e4d88614dc24a7a8262f665077ae369",
        "id": "8nWtlkgMlLCz"
      },
      "source": [
        "표본 분산(sample variance)은 데이터와 표본 평균간의 거리의 제곱의 평균이다. 표본 분산이 작으면 데이터가 모여있는 것이고 크면 흩어져 있는 것이다. 수학 기호로는 $s^2$이라고 표시하며 다음과 같이 계산한다.\n",
        "\n",
        "$$ s^2 = \\dfrac{1}{N}\\sum_{i=1}^N (x_i - \\bar{x})^2 $$"
      ]
    },
    {
      "cell_type": "code",
      "metadata": {
        "school_cell_uuid": "1ffac705a908414da102ec73b6f8350d",
        "id": "S5-lkYtllLC0"
      },
      "source": [
        "np.var(x)  # 분산"
      ],
      "execution_count": 8,
      "outputs": [
        {
          "output_type": "execute_result",
          "data": {
            "text/plain": [
              "115.23224852071006"
            ]
          },
          "metadata": {},
          "execution_count": 8
        }
      ]
    },
    {
      "cell_type": "code",
      "metadata": {
        "school_cell_uuid": "1ffac705a908414da102ec73b6f8350d",
        "id": "y0dsmSk_lLC0"
      },
      "source": [
        "np.var(x, ddof=1)  # 비편향 분산. 추후 공부하게 된다."
      ],
      "execution_count": 9,
      "outputs": [
        {
          "output_type": "execute_result",
          "data": {
            "text/plain": [
              "119.84153846153846"
            ]
          },
          "metadata": {},
          "execution_count": 9
        }
      ]
    },
    {
      "cell_type": "markdown",
      "metadata": {
        "school_cell_uuid": "4bbc3f5d73024b729375127f82265a17",
        "id": "s2iMp0IRlLC0"
      },
      "source": [
        "### 표본 표준편차"
      ]
    },
    {
      "cell_type": "markdown",
      "metadata": {
        "school_cell_uuid": "2e4d88614dc24a7a8262f665077ae369",
        "id": "KZjDATUglLC1"
      },
      "source": [
        "표본 표준편차(sample standard variance)는 표본 분산의 양의 제곱근 값이다. $s$이라고 표시한다.\n",
        "\n",
        "$$ s = \\sqrt{s^2} $$"
      ]
    },
    {
      "cell_type": "code",
      "metadata": {
        "school_cell_uuid": "34435c8883fc4edabe7355a6b57b9643",
        "id": "y9yIQy9alLC1"
      },
      "source": [
        "np.std(x)  # 표준 편차"
      ],
      "execution_count": 10,
      "outputs": [
        {
          "output_type": "execute_result",
          "data": {
            "text/plain": [
              "10.734628476137871"
            ]
          },
          "metadata": {},
          "execution_count": 10
        }
      ]
    },
    {
      "cell_type": "markdown",
      "metadata": {
        "school_cell_uuid": "05547e99bba14b17987949e87e01810f",
        "id": "h3c1OhyklLC2"
      },
      "source": [
        "### 최댓값과 최솟값"
      ]
    },
    {
      "cell_type": "markdown",
      "metadata": {
        "school_cell_uuid": "2e4d88614dc24a7a8262f665077ae369",
        "id": "6zkHUEX0lLC2"
      },
      "source": [
        "최댓값(maximum)은 데이터 중에서 가장 큰 값을, 최솟값(minimum)은 가장 작은 값을 의미한다."
      ]
    },
    {
      "cell_type": "code",
      "metadata": {
        "school_cell_uuid": "04c24da8c29441bb9815be7eec10f647",
        "id": "gf8MuhV-lLC2"
      },
      "source": [
        "np.max(x)  # 최댓값"
      ],
      "execution_count": 11,
      "outputs": [
        {
          "output_type": "execute_result",
          "data": {
            "text/plain": [
              "23"
            ]
          },
          "metadata": {},
          "execution_count": 11
        }
      ]
    },
    {
      "cell_type": "code",
      "metadata": {
        "school_cell_uuid": "c92a5db3daca4040a149ab4d286b1ff5",
        "id": "_4ga4HuElLC3"
      },
      "source": [
        "np.min(x)  # 최솟값"
      ],
      "execution_count": 12,
      "outputs": [
        {
          "output_type": "execute_result",
          "data": {
            "text/plain": [
              "-24"
            ]
          },
          "metadata": {},
          "execution_count": 12
        }
      ]
    },
    {
      "cell_type": "markdown",
      "metadata": {
        "school_cell_uuid": "7f70258fd789484a9579bd76794b16a9",
        "id": "eEmJLhzxlLC3"
      },
      "source": [
        "### 중앙값"
      ]
    },
    {
      "cell_type": "markdown",
      "metadata": {
        "school_cell_uuid": "2e4d88614dc24a7a8262f665077ae369",
        "id": "JXsDcjNXlLC3"
      },
      "source": [
        "중앙값(median)은 데이터를 크기대로 정렬하였을 때 가장 가운데에 있는 수를 말한다. 만약 데이터의 수가 짝수이면 가장 가운데에 있는 두 수의 평균을 사용한다."
      ]
    },
    {
      "cell_type": "code",
      "metadata": {
        "school_cell_uuid": "e1fa96e6ed7442bc9583e47fd911f3e4",
        "id": "RKtyu4dIlLC4"
      },
      "source": [
        "np.median(x)  # 중앙값"
      ],
      "execution_count": 13,
      "outputs": [
        {
          "output_type": "execute_result",
          "data": {
            "text/plain": [
              "5.0"
            ]
          },
          "metadata": {},
          "execution_count": 13
        }
      ]
    },
    {
      "cell_type": "markdown",
      "metadata": {
        "school_cell_uuid": "58a28972d7384333b0319b43f1735892",
        "id": "lznMWNFHlLC5"
      },
      "source": [
        "### 사분위수"
      ]
    },
    {
      "cell_type": "markdown",
      "metadata": {
        "school_cell_uuid": "ce4db8b11cb54285b112ccc8bd6124d8",
        "id": "Fl6171IUlLC6"
      },
      "source": [
        "사분위수(quartile)는 데이터를 가장 작은 수부터 가장 큰 수까지 크기가 커지는 순서대로 정렬하였을 때 1/4, 2/4, 3/4 위치에 있는 수를 말한다. 각각 1사분위수, 2사분위수, 3사분위수라고 한다. 1/4의 위치란 전체 데이터의 수가 만약 100개이면 25번째 순서, 즉 하위 25%를 말한다. 따라서 2사분위수는 중앙값과 같다. \n",
        "\n",
        "때로는 위치를 1/100 단위로 나눈 백분위수(percentile)을 사용하기도 한다. 1사분위수는 25% 백분위수와 같다."
      ]
    },
    {
      "cell_type": "code",
      "execution_count": 34,
      "metadata": {},
      "outputs": [
        {
          "output_type": "execute_result",
          "data": {
            "text/plain": [
              "array([-24, -13,  -8,  -7,  -6,  -1,   0,   0,   2,   2,   4,   4,   5,\n",
              "         5,   5,   7,   8,   9,  10,  10,  15,  15,  18,  19,  23,  23])"
            ]
          },
          "metadata": {},
          "execution_count": 34
        }
      ],
      "source": [
        "x"
      ]
    },
    {
      "cell_type": "code",
      "metadata": {
        "school_cell_uuid": "64bb2071eff44538b8ec961b89ae7e18",
        "id": "WtFNj5_5lLC6"
      },
      "source": [
        "np.percentile(x, 0)  # 최소값"
      ],
      "execution_count": 28,
      "outputs": [
        {
          "output_type": "execute_result",
          "data": {
            "text/plain": [
              "-24.0"
            ]
          },
          "metadata": {},
          "execution_count": 28
        }
      ]
    },
    {
      "cell_type": "code",
      "metadata": {
        "school_cell_uuid": "64bb2071eff44538b8ec961b89ae7e18",
        "id": "xpwx8bpolLC7"
      },
      "source": [
        "np.percentile(x, 25)  # 1사분위 수"
      ],
      "execution_count": 29,
      "outputs": [
        {
          "output_type": "execute_result",
          "data": {
            "text/plain": [
              "0.0"
            ]
          },
          "metadata": {},
          "execution_count": 29
        }
      ]
    },
    {
      "cell_type": "code",
      "metadata": {
        "school_cell_uuid": "cda69de008b44a9e9fdbd366173c1a7c",
        "id": "1gXgFKOvlLC7"
      },
      "source": [
        "np.percentile(x, 50)  # 2사분위 수"
      ],
      "execution_count": 30,
      "outputs": [
        {
          "output_type": "execute_result",
          "data": {
            "text/plain": [
              "5.0"
            ]
          },
          "metadata": {},
          "execution_count": 30
        }
      ]
    },
    {
      "cell_type": "code",
      "metadata": {
        "school_cell_uuid": "3a6242f292674da499c6056b35ae0256",
        "id": "7iysqSPmlLC7"
      },
      "source": [
        "np.percentile(x, 75)  # 3사분위 수"
      ],
      "execution_count": 31,
      "outputs": [
        {
          "output_type": "execute_result",
          "data": {
            "text/plain": [
              "10.0"
            ]
          },
          "metadata": {},
          "execution_count": 31
        }
      ]
    },
    {
      "cell_type": "code",
      "metadata": {
        "school_cell_uuid": "3a6242f292674da499c6056b35ae0256",
        "id": "IRa1HGTclLC8"
      },
      "source": [
        "np.percentile(x, 100)  # 최댓값"
      ],
      "execution_count": 32,
      "outputs": [
        {
          "output_type": "execute_result",
          "data": {
            "text/plain": [
              "23.0"
            ]
          },
          "metadata": {},
          "execution_count": 32
        }
      ]
    },
    {
      "cell_type": "markdown",
      "metadata": {
        "id": "fcuJ0FNus4Dh"
      },
      "source": [
        "# 2-4. 랜덤 함수\r\n",
        "- 난수(random number)"
      ]
    },
    {
      "cell_type": "code",
      "metadata": {
        "id": "rSr-585gtRON"
      },
      "source": [
        "import numpy as np"
      ],
      "execution_count": 35,
      "outputs": []
    },
    {
      "cell_type": "code",
      "metadata": {
        "id": "1GJDrek0s7Ja"
      },
      "source": [
        "np.random.seed(0) # 랜덤 seed 지정"
      ],
      "execution_count": 36,
      "outputs": []
    },
    {
      "cell_type": "code",
      "metadata": {
        "id": "LO6mwoz8tKat"
      },
      "source": [
        "np.random.randint(0, 1000) # 0~1000 사이 난수 생성"
      ],
      "execution_count": 37,
      "outputs": [
        {
          "output_type": "execute_result",
          "data": {
            "text/plain": [
              "684"
            ]
          },
          "metadata": {},
          "execution_count": 37
        }
      ]
    },
    {
      "cell_type": "code",
      "metadata": {
        "id": "zgamTENitXDc"
      },
      "source": [
        "np.random.rand(5) #5 개의 난수 생성"
      ],
      "execution_count": 38,
      "outputs": [
        {
          "output_type": "execute_result",
          "data": {
            "text/plain": [
              "array([0.59284462, 0.84426575, 0.85794562, 0.84725174, 0.6235637 ])"
            ]
          },
          "metadata": {},
          "execution_count": 38
        }
      ]
    },
    {
      "cell_type": "code",
      "metadata": {
        "id": "ziAMYcXCtcjK"
      },
      "source": [
        "np.random.rand(3,5) #3x5 행렬 형태의 난수 생성"
      ],
      "execution_count": 39,
      "outputs": [
        {
          "output_type": "execute_result",
          "data": {
            "text/plain": [
              "array([[0.38438171, 0.29753461, 0.05671298, 0.27265629, 0.47766512],\n",
              "       [0.81216873, 0.47997717, 0.3927848 , 0.83607876, 0.33739616],\n",
              "       [0.64817187, 0.36824154, 0.95715516, 0.14035078, 0.87008726]])"
            ]
          },
          "metadata": {},
          "execution_count": 39
        }
      ]
    },
    {
      "cell_type": "code",
      "metadata": {
        "id": "LXAE7eQXtg8k"
      },
      "source": [
        "x = np.arange(10) # 0~9 까지 배열 생성\n",
        "x"
      ],
      "execution_count": 40,
      "outputs": [
        {
          "output_type": "execute_result",
          "data": {
            "text/plain": [
              "array([0, 1, 2, 3, 4, 5, 6, 7, 8, 9])"
            ]
          },
          "metadata": {},
          "execution_count": 40
        }
      ]
    },
    {
      "cell_type": "code",
      "metadata": {
        "id": "Y4lhYkJItnk7"
      },
      "source": [
        "np.random.shuffle(x) # 배열 x 의 순서를 무작위로 변경\n",
        "x"
      ],
      "execution_count": 41,
      "outputs": [
        {
          "output_type": "execute_result",
          "data": {
            "text/plain": [
              "array([0, 7, 2, 4, 6, 5, 9, 1, 8, 3])"
            ]
          },
          "metadata": {},
          "execution_count": 41
        }
      ]
    },
    {
      "cell_type": "markdown",
      "metadata": {
        "id": "TwwGcV4KuRK8"
      },
      "source": [
        "# 2-5. 데이터 샘플링\r\n",
        "- 샘플링(sampling): 존재하는 데이터 집합에서 일부를 무작위로 선택\r\n"
      ]
    },
    {
      "cell_type": "code",
      "metadata": {
        "id": "AsAg_elauZCH"
      },
      "source": [
        "x = np.random.choice(10, 10, replace=False) # shuffle 기능과 동일\n",
        "x"
      ],
      "execution_count": 42,
      "outputs": [
        {
          "output_type": "execute_result",
          "data": {
            "text/plain": [
              "array([3, 6, 4, 5, 2, 9, 7, 8, 1, 0])"
            ]
          },
          "metadata": {},
          "execution_count": 42
        }
      ]
    },
    {
      "cell_type": "code",
      "metadata": {
        "id": "ssfBvdMuuer4"
      },
      "source": [
        "x = np.random.choice(x, 5, replace=True) # 5 개 샘플링 , 중복 허용\n",
        "x"
      ],
      "execution_count": 43,
      "outputs": [
        {
          "output_type": "execute_result",
          "data": {
            "text/plain": [
              "array([4, 8, 4, 3, 3])"
            ]
          },
          "metadata": {},
          "execution_count": 43
        }
      ]
    },
    {
      "cell_type": "code",
      "metadata": {
        "id": "CGG7vOvFujow"
      },
      "source": [
        "x = np.random.choice(4, 3, replace=False, p=[0.4, 0.2, 0, 0.4]) # 선택 확률 별도 지정\n",
        "x"
      ],
      "execution_count": 44,
      "outputs": [
        {
          "output_type": "execute_result",
          "data": {
            "text/plain": [
              "array([0, 3, 1])"
            ]
          },
          "metadata": {},
          "execution_count": 44
        }
      ]
    },
    {
      "cell_type": "markdown",
      "metadata": {
        "id": "a3LOiMRAusQ_"
      },
      "source": [
        "# 2-6. 비교 연산\r\n"
      ]
    },
    {
      "cell_type": "code",
      "metadata": {
        "id": "-2wQmiX1uxg6"
      },
      "source": [
        "f = np.random.rand(3,4)\n",
        "f"
      ],
      "execution_count": 45,
      "outputs": [
        {
          "output_type": "execute_result",
          "data": {
            "text/plain": [
              "array([[0.61306346, 0.90234858, 0.09928035, 0.96980907],\n",
              "       [0.65314004, 0.17090959, 0.35815217, 0.75068614],\n",
              "       [0.60783067, 0.32504723, 0.03842543, 0.63427406]])"
            ]
          },
          "metadata": {},
          "execution_count": 45
        }
      ]
    },
    {
      "cell_type": "code",
      "metadata": {
        "id": "GmR_h2yRu1xm"
      },
      "source": [
        "tf = f > 0.3\n",
        "tf"
      ],
      "execution_count": 46,
      "outputs": [
        {
          "output_type": "execute_result",
          "data": {
            "text/plain": [
              "array([[ True,  True, False,  True],\n",
              "       [ True, False,  True,  True],\n",
              "       [ True,  True, False,  True]])"
            ]
          },
          "metadata": {},
          "execution_count": 46
        }
      ]
    },
    {
      "cell_type": "code",
      "metadata": {
        "id": "Izyo7VWXu5rX"
      },
      "source": [
        "f[ f > 0.3 ] = 1\n",
        "f"
      ],
      "execution_count": 47,
      "outputs": [
        {
          "output_type": "execute_result",
          "data": {
            "text/plain": [
              "array([[1.        , 1.        , 0.09928035, 1.        ],\n",
              "       [1.        , 0.17090959, 1.        , 1.        ],\n",
              "       [1.        , 1.        , 0.03842543, 1.        ]])"
            ]
          },
          "metadata": {},
          "execution_count": 47
        }
      ]
    },
    {
      "cell_type": "markdown",
      "metadata": {
        "id": "ylizeLcSvJRZ"
      },
      "source": [
        "# 2-7. 유니버설 함수\r\n",
        "- 슬라이드 참고"
      ]
    },
    {
      "source": [
        "---"
      ],
      "cell_type": "markdown",
      "metadata": {}
    },
    {
      "source": [
        "# Matplotlib"
      ],
      "cell_type": "markdown",
      "metadata": {}
    },
    {
      "cell_type": "code",
      "execution_count": 1,
      "metadata": {},
      "outputs": [],
      "source": [
        "import matplotlib.pyplot as plt\n",
        "import numpy as np"
      ]
    },
    {
      "cell_type": "code",
      "execution_count": 3,
      "metadata": {},
      "outputs": [],
      "source": [
        "x = np.linspace(-5, 5, 100)"
      ]
    },
    {
      "cell_type": "code",
      "execution_count": 4,
      "metadata": {},
      "outputs": [],
      "source": [
        "y = x\n",
        "y_sin = np.sin(x)\n",
        "y_cos = np.cos(x)\n",
        "y_sqrt = np.sqrt(x)\n",
        "y_log = np.log(x)\n",
        "y_log10 = np.log10(x)"
      ]
    },
    {
      "cell_type": "code",
      "execution_count": 6,
      "metadata": {},
      "outputs": [
        {
          "output_type": "display_data",
          "data": {
            "text/plain": "<Figure size 432x288 with 1 Axes>",
            "image/svg+xml": "<?xml version=\"1.0\" encoding=\"utf-8\" standalone=\"no\"?>\n<!DOCTYPE svg PUBLIC \"-//W3C//DTD SVG 1.1//EN\"\n  \"http://www.w3.org/Graphics/SVG/1.1/DTD/svg11.dtd\">\n<!-- Created with matplotlib (https://matplotlib.org/) -->\n<svg height=\"248.518125pt\" version=\"1.1\" viewBox=\"0 0 370.942187 248.518125\" width=\"370.942187pt\" xmlns=\"http://www.w3.org/2000/svg\" xmlns:xlink=\"http://www.w3.org/1999/xlink\">\n <metadata>\n  <rdf:RDF xmlns:cc=\"http://creativecommons.org/ns#\" xmlns:dc=\"http://purl.org/dc/elements/1.1/\" xmlns:rdf=\"http://www.w3.org/1999/02/22-rdf-syntax-ns#\">\n   <cc:Work>\n    <dc:type rdf:resource=\"http://purl.org/dc/dcmitype/StillImage\"/>\n    <dc:date>2021-02-20T21:31:20.110288</dc:date>\n    <dc:format>image/svg+xml</dc:format>\n    <dc:creator>\n     <cc:Agent>\n      <dc:title>Matplotlib v3.3.3, https://matplotlib.org/</dc:title>\n     </cc:Agent>\n    </dc:creator>\n   </cc:Work>\n  </rdf:RDF>\n </metadata>\n <defs>\n  <style type=\"text/css\">*{stroke-linecap:butt;stroke-linejoin:round;}</style>\n </defs>\n <g id=\"figure_1\">\n  <g id=\"patch_1\">\n   <path d=\"M 0 248.518125 \nL 370.942187 248.518125 \nL 370.942187 0 \nL 0 0 \nz\n\" style=\"fill:none;\"/>\n  </g>\n  <g id=\"axes_1\">\n   <g id=\"patch_2\">\n    <path d=\"M 28.942188 224.64 \nL 363.742188 224.64 \nL 363.742188 7.2 \nL 28.942188 7.2 \nz\n\" style=\"fill:#ffffff;\"/>\n   </g>\n   <g id=\"matplotlib.axis_1\">\n    <g id=\"xtick_1\">\n     <g id=\"line2d_1\">\n      <defs>\n       <path d=\"M 0 0 \nL 0 3.5 \n\" id=\"mf48f846109\" style=\"stroke:#000000;stroke-width:0.8;\"/>\n      </defs>\n      <g>\n       <use style=\"stroke:#000000;stroke-width:0.8;\" x=\"74.596733\" xlink:href=\"#mf48f846109\" y=\"224.64\"/>\n      </g>\n     </g>\n     <g id=\"text_1\">\n      <!-- −4 -->\n      <g transform=\"translate(67.225639 239.238437)scale(0.1 -0.1)\">\n       <defs>\n        <path d=\"M 10.59375 35.5 \nL 73.1875 35.5 \nL 73.1875 27.203125 \nL 10.59375 27.203125 \nz\n\" id=\"DejaVuSans-8722\"/>\n        <path d=\"M 37.796875 64.3125 \nL 12.890625 25.390625 \nL 37.796875 25.390625 \nz\nM 35.203125 72.90625 \nL 47.609375 72.90625 \nL 47.609375 25.390625 \nL 58.015625 25.390625 \nL 58.015625 17.1875 \nL 47.609375 17.1875 \nL 47.609375 0 \nL 37.796875 0 \nL 37.796875 17.1875 \nL 4.890625 17.1875 \nL 4.890625 26.703125 \nz\n\" id=\"DejaVuSans-52\"/>\n       </defs>\n       <use xlink:href=\"#DejaVuSans-8722\"/>\n       <use x=\"83.789062\" xlink:href=\"#DejaVuSans-52\"/>\n      </g>\n     </g>\n    </g>\n    <g id=\"xtick_2\">\n     <g id=\"line2d_2\">\n      <g>\n       <use style=\"stroke:#000000;stroke-width:0.8;\" x=\"135.46946\" xlink:href=\"#mf48f846109\" y=\"224.64\"/>\n      </g>\n     </g>\n     <g id=\"text_2\">\n      <!-- −2 -->\n      <g transform=\"translate(128.098366 239.238437)scale(0.1 -0.1)\">\n       <defs>\n        <path d=\"M 19.1875 8.296875 \nL 53.609375 8.296875 \nL 53.609375 0 \nL 7.328125 0 \nL 7.328125 8.296875 \nQ 12.9375 14.109375 22.625 23.890625 \nQ 32.328125 33.6875 34.8125 36.53125 \nQ 39.546875 41.84375 41.421875 45.53125 \nQ 43.3125 49.21875 43.3125 52.78125 \nQ 43.3125 58.59375 39.234375 62.25 \nQ 35.15625 65.921875 28.609375 65.921875 \nQ 23.96875 65.921875 18.8125 64.3125 \nQ 13.671875 62.703125 7.8125 59.421875 \nL 7.8125 69.390625 \nQ 13.765625 71.78125 18.9375 73 \nQ 24.125 74.21875 28.421875 74.21875 \nQ 39.75 74.21875 46.484375 68.546875 \nQ 53.21875 62.890625 53.21875 53.421875 \nQ 53.21875 48.921875 51.53125 44.890625 \nQ 49.859375 40.875 45.40625 35.40625 \nQ 44.1875 33.984375 37.640625 27.21875 \nQ 31.109375 20.453125 19.1875 8.296875 \nz\n\" id=\"DejaVuSans-50\"/>\n       </defs>\n       <use xlink:href=\"#DejaVuSans-8722\"/>\n       <use x=\"83.789062\" xlink:href=\"#DejaVuSans-50\"/>\n      </g>\n     </g>\n    </g>\n    <g id=\"xtick_3\">\n     <g id=\"line2d_3\">\n      <g>\n       <use style=\"stroke:#000000;stroke-width:0.8;\" x=\"196.342188\" xlink:href=\"#mf48f846109\" y=\"224.64\"/>\n      </g>\n     </g>\n     <g id=\"text_3\">\n      <!-- 0 -->\n      <g transform=\"translate(193.160938 239.238437)scale(0.1 -0.1)\">\n       <defs>\n        <path d=\"M 31.78125 66.40625 \nQ 24.171875 66.40625 20.328125 58.90625 \nQ 16.5 51.421875 16.5 36.375 \nQ 16.5 21.390625 20.328125 13.890625 \nQ 24.171875 6.390625 31.78125 6.390625 \nQ 39.453125 6.390625 43.28125 13.890625 \nQ 47.125 21.390625 47.125 36.375 \nQ 47.125 51.421875 43.28125 58.90625 \nQ 39.453125 66.40625 31.78125 66.40625 \nz\nM 31.78125 74.21875 \nQ 44.046875 74.21875 50.515625 64.515625 \nQ 56.984375 54.828125 56.984375 36.375 \nQ 56.984375 17.96875 50.515625 8.265625 \nQ 44.046875 -1.421875 31.78125 -1.421875 \nQ 19.53125 -1.421875 13.0625 8.265625 \nQ 6.59375 17.96875 6.59375 36.375 \nQ 6.59375 54.828125 13.0625 64.515625 \nQ 19.53125 74.21875 31.78125 74.21875 \nz\n\" id=\"DejaVuSans-48\"/>\n       </defs>\n       <use xlink:href=\"#DejaVuSans-48\"/>\n      </g>\n     </g>\n    </g>\n    <g id=\"xtick_4\">\n     <g id=\"line2d_4\">\n      <g>\n       <use style=\"stroke:#000000;stroke-width:0.8;\" x=\"257.214915\" xlink:href=\"#mf48f846109\" y=\"224.64\"/>\n      </g>\n     </g>\n     <g id=\"text_4\">\n      <!-- 2 -->\n      <g transform=\"translate(254.033665 239.238437)scale(0.1 -0.1)\">\n       <use xlink:href=\"#DejaVuSans-50\"/>\n      </g>\n     </g>\n    </g>\n    <g id=\"xtick_5\">\n     <g id=\"line2d_5\">\n      <g>\n       <use style=\"stroke:#000000;stroke-width:0.8;\" x=\"318.087642\" xlink:href=\"#mf48f846109\" y=\"224.64\"/>\n      </g>\n     </g>\n     <g id=\"text_5\">\n      <!-- 4 -->\n      <g transform=\"translate(314.906392 239.238437)scale(0.1 -0.1)\">\n       <use xlink:href=\"#DejaVuSans-52\"/>\n      </g>\n     </g>\n    </g>\n   </g>\n   <g id=\"matplotlib.axis_2\">\n    <g id=\"ytick_1\">\n     <g id=\"line2d_6\">\n      <defs>\n       <path d=\"M 0 0 \nL -3.5 0 \n\" id=\"m50663592c4\" style=\"stroke:#000000;stroke-width:0.8;\"/>\n      </defs>\n      <g>\n       <use style=\"stroke:#000000;stroke-width:0.8;\" x=\"28.942188\" xlink:href=\"#m50663592c4\" y=\"194.989091\"/>\n      </g>\n     </g>\n     <g id=\"text_6\">\n      <!-- −4 -->\n      <g transform=\"translate(7.2 198.78831)scale(0.1 -0.1)\">\n       <use xlink:href=\"#DejaVuSans-8722\"/>\n       <use x=\"83.789062\" xlink:href=\"#DejaVuSans-52\"/>\n      </g>\n     </g>\n    </g>\n    <g id=\"ytick_2\">\n     <g id=\"line2d_7\">\n      <g>\n       <use style=\"stroke:#000000;stroke-width:0.8;\" x=\"28.942188\" xlink:href=\"#m50663592c4\" y=\"155.454545\"/>\n      </g>\n     </g>\n     <g id=\"text_7\">\n      <!-- −2 -->\n      <g transform=\"translate(7.2 159.253764)scale(0.1 -0.1)\">\n       <use xlink:href=\"#DejaVuSans-8722\"/>\n       <use x=\"83.789062\" xlink:href=\"#DejaVuSans-50\"/>\n      </g>\n     </g>\n    </g>\n    <g id=\"ytick_3\">\n     <g id=\"line2d_8\">\n      <g>\n       <use style=\"stroke:#000000;stroke-width:0.8;\" x=\"28.942188\" xlink:href=\"#m50663592c4\" y=\"115.92\"/>\n      </g>\n     </g>\n     <g id=\"text_8\">\n      <!-- 0 -->\n      <g transform=\"translate(15.579688 119.719219)scale(0.1 -0.1)\">\n       <use xlink:href=\"#DejaVuSans-48\"/>\n      </g>\n     </g>\n    </g>\n    <g id=\"ytick_4\">\n     <g id=\"line2d_9\">\n      <g>\n       <use style=\"stroke:#000000;stroke-width:0.8;\" x=\"28.942188\" xlink:href=\"#m50663592c4\" y=\"76.385455\"/>\n      </g>\n     </g>\n     <g id=\"text_9\">\n      <!-- 2 -->\n      <g transform=\"translate(15.579688 80.184673)scale(0.1 -0.1)\">\n       <use xlink:href=\"#DejaVuSans-50\"/>\n      </g>\n     </g>\n    </g>\n    <g id=\"ytick_5\">\n     <g id=\"line2d_10\">\n      <g>\n       <use style=\"stroke:#000000;stroke-width:0.8;\" x=\"28.942188\" xlink:href=\"#m50663592c4\" y=\"36.850909\"/>\n      </g>\n     </g>\n     <g id=\"text_10\">\n      <!-- 4 -->\n      <g transform=\"translate(15.579688 40.650128)scale(0.1 -0.1)\">\n       <use xlink:href=\"#DejaVuSans-52\"/>\n      </g>\n     </g>\n    </g>\n   </g>\n   <g id=\"line2d_11\">\n    <path clip-path=\"url(#pa30fc48f2c)\" d=\"M 44.160369 214.756364 \nL 47.234749 212.759669 \nL 50.30913 210.762975 \nL 53.38351 208.766281 \nL 56.45789 206.769587 \nL 59.53227 204.772893 \nL 62.60665 202.776198 \nL 65.68103 200.779504 \nL 68.755411 198.78281 \nL 71.829791 196.786116 \nL 74.904171 194.789421 \nL 77.978551 192.792727 \nL 81.052931 190.796033 \nL 84.127311 188.799339 \nL 87.201692 186.802645 \nL 90.276072 184.80595 \nL 93.350452 182.809256 \nL 96.424832 180.812562 \nL 99.499212 178.815868 \nL 102.573592 176.819174 \nL 105.647973 174.822479 \nL 108.722353 172.825785 \nL 111.796733 170.829091 \nL 114.871113 168.832397 \nL 117.945493 166.835702 \nL 121.019873 164.839008 \nL 124.094254 162.842314 \nL 127.168634 160.84562 \nL 130.243014 158.848926 \nL 133.317394 156.852231 \nL 136.391774 154.855537 \nL 139.466154 152.858843 \nL 142.540535 150.862149 \nL 145.614915 148.865455 \nL 148.689295 146.86876 \nL 151.763675 144.872066 \nL 154.838055 142.875372 \nL 157.912435 140.878678 \nL 160.986816 138.881983 \nL 164.061196 136.885289 \nL 167.135576 134.888595 \nL 170.209956 132.891901 \nL 173.284336 130.895207 \nL 176.358716 128.898512 \nL 179.433097 126.901818 \nL 182.507477 124.905124 \nL 185.581857 122.90843 \nL 188.656237 120.911736 \nL 191.730617 118.915041 \nL 194.804997 116.918347 \nL 197.879378 114.921653 \nL 200.953758 112.924959 \nL 204.028138 110.928264 \nL 207.102518 108.93157 \nL 210.176898 106.934876 \nL 213.251278 104.938182 \nL 216.325659 102.941488 \nL 219.400039 100.944793 \nL 222.474419 98.948099 \nL 225.548799 96.951405 \nL 228.623179 94.954711 \nL 231.697559 92.958017 \nL 234.77194 90.961322 \nL 237.84632 88.964628 \nL 240.9207 86.967934 \nL 243.99508 84.97124 \nL 247.06946 82.974545 \nL 250.14384 80.977851 \nL 253.218221 78.981157 \nL 256.292601 76.984463 \nL 259.366981 74.987769 \nL 262.441361 72.991074 \nL 265.515741 70.99438 \nL 268.590121 68.997686 \nL 271.664502 67.000992 \nL 274.738882 65.004298 \nL 277.813262 63.007603 \nL 280.887642 61.010909 \nL 283.962022 59.014215 \nL 287.036402 57.017521 \nL 290.110783 55.020826 \nL 293.185163 53.024132 \nL 296.259543 51.027438 \nL 299.333923 49.030744 \nL 302.408303 47.03405 \nL 305.482683 45.037355 \nL 308.557064 43.040661 \nL 311.631444 41.043967 \nL 314.705824 39.047273 \nL 317.780204 37.050579 \nL 320.854584 35.053884 \nL 323.928964 33.05719 \nL 327.003345 31.060496 \nL 330.077725 29.063802 \nL 333.152105 27.067107 \nL 336.226485 25.070413 \nL 339.300865 23.073719 \nL 342.375245 21.077025 \nL 345.449626 19.080331 \nL 348.524006 17.083636 \n\" style=\"fill:none;stroke:#1f77b4;stroke-linecap:square;stroke-width:1.5;\"/>\n   </g>\n   <g id=\"line2d_12\">\n    <path clip-path=\"url(#pa30fc48f2c)\" d=\"M 44.160369 96.964682 \nL 47.234749 96.495877 \nL 50.30913 96.225089 \nL 53.38351 96.155077 \nL 56.45789 96.286557 \nL 59.53227 96.618187 \nL 62.60665 97.146587 \nL 65.68103 97.866369 \nL 68.755411 98.770198 \nL 71.829791 99.848857 \nL 74.904171 101.091352 \nL 77.978551 102.485016 \nL 81.052931 104.015641 \nL 84.127311 105.667623 \nL 87.201692 107.424121 \nL 90.276072 109.26723 \nL 93.350452 111.17816 \nL 96.424832 113.137429 \nL 99.499212 115.125065 \nL 102.573592 117.120805 \nL 105.647973 119.104304 \nL 108.722353 121.055341 \nL 111.796733 122.954026 \nL 114.871113 124.781003 \nL 117.945493 126.517649 \nL 121.019873 128.146258 \nL 124.094254 129.650227 \nL 127.168634 131.014226 \nL 130.243014 132.224349 \nL 133.317394 133.26826 \nL 136.391774 134.135315 \nL 139.466154 134.816678 \nL 142.540535 135.3054 \nL 145.614915 135.596501 \nL 148.689295 135.687012 \nL 151.763675 135.57601 \nL 154.838055 135.264629 \nL 157.912435 134.756041 \nL 160.986816 134.055431 \nL 164.061196 133.169942 \nL 167.135576 132.108601 \nL 170.209956 130.882228 \nL 173.284336 129.503323 \nL 176.358716 127.985946 \nL 179.433097 126.345564 \nL 182.507477 124.5989 \nL 185.581857 122.763759 \nL 188.656237 120.858851 \nL 191.730617 118.903595 \nL 194.804997 116.917923 \nL 197.879378 114.922077 \nL 200.953758 112.936405 \nL 204.028138 110.981149 \nL 207.102518 109.076241 \nL 210.176898 107.2411 \nL 213.251278 105.494436 \nL 216.325659 103.854054 \nL 219.400039 102.336677 \nL 222.474419 100.957772 \nL 225.548799 99.731399 \nL 228.623179 98.670058 \nL 231.697559 97.784569 \nL 234.77194 97.083959 \nL 237.84632 96.575371 \nL 240.9207 96.26399 \nL 243.99508 96.152988 \nL 247.06946 96.243499 \nL 250.14384 96.5346 \nL 253.218221 97.023322 \nL 256.292601 97.704685 \nL 259.366981 98.57174 \nL 262.441361 99.615651 \nL 265.515741 100.825774 \nL 268.590121 102.189773 \nL 271.664502 103.693742 \nL 274.738882 105.322351 \nL 277.813262 107.058997 \nL 280.887642 108.885974 \nL 283.962022 110.784659 \nL 287.036402 112.735696 \nL 290.110783 114.719195 \nL 293.185163 116.714935 \nL 296.259543 118.702571 \nL 299.333923 120.66184 \nL 302.408303 122.57277 \nL 305.482683 124.415879 \nL 308.557064 126.172377 \nL 311.631444 127.824359 \nL 314.705824 129.354984 \nL 317.780204 130.748648 \nL 320.854584 131.991143 \nL 323.928964 133.069802 \nL 327.003345 133.973631 \nL 330.077725 134.693413 \nL 333.152105 135.221813 \nL 336.226485 135.553443 \nL 339.300865 135.684923 \nL 342.375245 135.614911 \nL 345.449626 135.344123 \nL 348.524006 134.875318 \n\" style=\"fill:none;stroke:#ff7f0e;stroke-linecap:square;stroke-width:1.5;\"/>\n   </g>\n   <g id=\"line2d_13\">\n    <path clip-path=\"url(#pa30fc48f2c)\" d=\"M 44.160369 110.312772 \nL 47.234749 112.252778 \nL 50.30913 114.230168 \nL 53.38351 116.224785 \nL 56.45789 118.216295 \nL 59.53227 120.184396 \nL 62.60665 122.109024 \nL 65.68103 123.970559 \nL 68.755411 125.750023 \nL 71.829791 127.429277 \nL 74.904171 128.9912 \nL 77.978551 130.419871 \nL 81.052931 131.700725 \nL 84.127311 132.820705 \nL 87.201692 133.768393 \nL 90.276072 134.534127 \nL 93.350452 135.110102 \nL 96.424832 135.490446 \nL 99.499212 135.671282 \nL 102.573592 135.650766 \nL 105.647973 135.429108 \nL 108.722353 135.008566 \nL 111.796733 134.393428 \nL 114.871113 133.589966 \nL 117.945493 132.606369 \nL 121.019873 131.452666 \nL 124.094254 130.140616 \nL 127.168634 128.683597 \nL 130.243014 127.09646 \nL 133.317394 125.395387 \nL 136.391774 123.597718 \nL 139.466154 121.72178 \nL 142.540535 119.786696 \nL 145.614915 117.812193 \nL 148.689295 115.818401 \nL 151.763675 113.825645 \nL 154.838055 111.854239 \nL 157.912435 109.924281 \nL 160.986816 108.055446 \nL 164.061196 106.266785 \nL 167.135576 104.576532 \nL 170.209956 103.001919 \nL 173.284336 101.558997 \nL 176.358716 100.262477 \nL 179.433097 99.125576 \nL 182.507477 98.159882 \nL 185.581857 97.375243 \nL 188.656237 96.779655 \nL 191.730617 96.379191 \nL 194.804997 96.177933 \nL 197.879378 96.177933 \nL 200.953758 96.379191 \nL 204.028138 96.779655 \nL 207.102518 97.375243 \nL 210.176898 98.159882 \nL 213.251278 99.125576 \nL 216.325659 100.262477 \nL 219.400039 101.558997 \nL 222.474419 103.001919 \nL 225.548799 104.576532 \nL 228.623179 106.266785 \nL 231.697559 108.055446 \nL 234.77194 109.924281 \nL 237.84632 111.854239 \nL 240.9207 113.825645 \nL 243.99508 115.818401 \nL 247.06946 117.812193 \nL 250.14384 119.786696 \nL 253.218221 121.72178 \nL 256.292601 123.597718 \nL 259.366981 125.395387 \nL 262.441361 127.09646 \nL 265.515741 128.683597 \nL 268.590121 130.140616 \nL 271.664502 131.452666 \nL 274.738882 132.606369 \nL 277.813262 133.589966 \nL 280.887642 134.393428 \nL 283.962022 135.008566 \nL 287.036402 135.429108 \nL 290.110783 135.650766 \nL 293.185163 135.671282 \nL 296.259543 135.490446 \nL 299.333923 135.110102 \nL 302.408303 134.534127 \nL 305.482683 133.768393 \nL 308.557064 132.820705 \nL 311.631444 131.700725 \nL 314.705824 130.419871 \nL 317.780204 128.9912 \nL 320.854584 127.429277 \nL 323.928964 125.750023 \nL 327.003345 123.970559 \nL 330.077725 122.109024 \nL 333.152105 120.184396 \nL 336.226485 118.216295 \nL 339.300865 116.224785 \nL 342.375245 114.230168 \nL 345.449626 112.252778 \nL 348.524006 110.312772 \n\" style=\"fill:none;stroke:#2ca02c;stroke-linecap:square;stroke-width:1.5;\"/>\n   </g>\n   <g id=\"line2d_14\">\n    <path clip-path=\"url(#pa30fc48f2c)\" d=\"M 197.879378 111.477636 \nL 200.953758 108.2256 \nL 204.028138 105.986572 \nL 207.102518 104.166609 \nL 210.176898 102.592907 \nL 213.251278 101.186345 \nL 216.325659 99.902828 \nL 219.400039 98.714797 \nL 222.474419 97.603663 \nL 225.548799 96.556183 \nL 228.623179 95.56253 \nL 231.697559 94.61517 \nL 234.77194 93.708179 \nL 237.84632 92.836799 \nL 240.9207 91.997137 \nL 243.99508 91.185963 \nL 247.06946 90.400561 \nL 250.14384 89.638619 \nL 253.218221 88.898154 \nL 256.292601 88.177445 \nL 259.366981 87.47499 \nL 262.441361 86.78947 \nL 265.515741 86.119715 \nL 268.590121 85.464686 \nL 271.664502 84.823451 \nL 274.738882 84.195174 \nL 277.813262 83.579101 \nL 280.887642 82.974545 \nL 283.962022 82.380886 \nL 287.036402 81.797553 \nL 290.110783 81.224027 \nL 293.185163 80.659827 \nL 296.259543 80.104515 \nL 299.333923 79.557682 \nL 302.408303 79.018952 \nL 305.482683 78.487974 \nL 308.557064 77.964424 \nL 311.631444 77.447998 \nL 314.705824 76.938412 \nL 317.780204 76.435403 \nL 320.854584 75.938722 \nL 323.928964 75.448136 \nL 327.003345 74.963426 \nL 330.077725 74.484385 \nL 333.152105 74.01082 \nL 336.226485 73.542547 \nL 339.300865 73.079391 \nL 342.375245 72.62119 \nL 345.449626 72.167787 \nL 348.524006 71.719034 \n\" style=\"fill:none;stroke:#d62728;stroke-linecap:square;stroke-width:1.5;\"/>\n   </g>\n   <g id=\"line2d_15\">\n    <path clip-path=\"url(#pa30fc48f2c)\" d=\"M 197.879378 174.938789 \nL 200.953758 153.22222 \nL 204.028138 143.124591 \nL 207.102518 136.473453 \nL 210.176898 131.505652 \nL 213.251278 127.538939 \nL 216.325659 124.236736 \nL 219.400039 121.408022 \nL 222.474419 118.933888 \nL 225.548799 116.735261 \nL 228.623179 114.756884 \nL 231.697559 112.95862 \nL 234.77194 111.310393 \nL 237.84632 109.789083 \nL 240.9207 108.376534 \nL 243.99508 107.058228 \nL 247.06946 105.822371 \nL 250.14384 104.659254 \nL 253.218221 103.56079 \nL 256.292601 102.520167 \nL 259.366981 101.531597 \nL 262.441361 100.590121 \nL 265.515741 99.691454 \nL 268.590121 98.831871 \nL 271.664502 98.008116 \nL 274.738882 97.21732 \nL 277.813262 96.456946 \nL 280.887642 95.724741 \nL 283.962022 95.018692 \nL 287.036402 94.336994 \nL 290.110783 93.678024 \nL 293.185163 93.040315 \nL 296.259543 92.422538 \nL 299.333923 91.823483 \nL 302.408303 91.242051 \nL 305.482683 90.677233 \nL 308.557064 90.128107 \nL 311.631444 89.593824 \nL 314.705824 89.073603 \nL 317.780204 88.566722 \nL 320.854584 88.072514 \nL 323.928964 87.590362 \nL 327.003345 87.11969 \nL 330.077725 86.659965 \nL 333.152105 86.21069 \nL 336.226485 85.771399 \nL 339.300865 85.341659 \nL 342.375245 84.921063 \nL 345.449626 84.50923 \nL 348.524006 84.105802 \n\" style=\"fill:none;stroke:#9467bd;stroke-linecap:square;stroke-width:1.5;\"/>\n   </g>\n   <g id=\"line2d_16\">\n    <path clip-path=\"url(#pa30fc48f2c)\" d=\"M 197.879378 141.551534 \nL 200.953758 132.120148 \nL 204.028138 127.734804 \nL 207.102518 124.846251 \nL 210.176898 122.688763 \nL 213.251278 120.966041 \nL 216.325659 119.531912 \nL 219.400039 118.303418 \nL 222.474419 117.228915 \nL 225.548799 116.274063 \nL 228.623179 115.414865 \nL 231.697559 114.633889 \nL 234.77194 113.918073 \nL 237.84632 113.257377 \nL 240.9207 112.643914 \nL 243.99508 112.071381 \nL 247.06946 111.534655 \nL 250.14384 111.02952 \nL 253.218221 110.552463 \nL 256.292601 110.100526 \nL 259.366981 109.671196 \nL 262.441361 109.262318 \nL 265.515741 108.872032 \nL 268.590121 108.49872 \nL 271.664502 108.140968 \nL 274.738882 107.797529 \nL 277.813262 107.467303 \nL 280.887642 107.149311 \nL 283.962022 106.842677 \nL 287.036402 106.54662 \nL 290.110783 106.260433 \nL 293.185163 105.983479 \nL 296.259543 105.715182 \nL 299.333923 105.455016 \nL 302.408303 105.202503 \nL 305.482683 104.957206 \nL 308.557064 104.718723 \nL 311.631444 104.486687 \nL 314.705824 104.260758 \nL 317.780204 104.040622 \nL 320.854584 103.825991 \nL 323.928964 103.616594 \nL 327.003345 103.412184 \nL 330.077725 103.212528 \nL 333.152105 103.017411 \nL 336.226485 102.826629 \nL 339.300865 102.639995 \nL 342.375245 102.457333 \nL 345.449626 102.278476 \nL 348.524006 102.103269 \n\" style=\"fill:none;stroke:#8c564b;stroke-linecap:square;stroke-width:1.5;\"/>\n   </g>\n   <g id=\"patch_3\">\n    <path d=\"M 28.942188 224.64 \nL 28.942188 7.2 \n\" style=\"fill:none;stroke:#000000;stroke-linecap:square;stroke-linejoin:miter;stroke-width:0.8;\"/>\n   </g>\n   <g id=\"patch_4\">\n    <path d=\"M 363.742188 224.64 \nL 363.742188 7.2 \n\" style=\"fill:none;stroke:#000000;stroke-linecap:square;stroke-linejoin:miter;stroke-width:0.8;\"/>\n   </g>\n   <g id=\"patch_5\">\n    <path d=\"M 28.942188 224.64 \nL 363.742188 224.64 \n\" style=\"fill:none;stroke:#000000;stroke-linecap:square;stroke-linejoin:miter;stroke-width:0.8;\"/>\n   </g>\n   <g id=\"patch_6\">\n    <path d=\"M 28.942188 7.2 \nL 363.742188 7.2 \n\" style=\"fill:none;stroke:#000000;stroke-linecap:square;stroke-linejoin:miter;stroke-width:0.8;\"/>\n   </g>\n   <g id=\"legend_1\">\n    <g id=\"patch_7\">\n     <path d=\"M 35.942188 103.26875 \nL 115.551563 103.26875 \nQ 117.551563 103.26875 117.551563 101.26875 \nL 117.551563 14.2 \nQ 117.551563 12.2 115.551563 12.2 \nL 35.942188 12.2 \nQ 33.942188 12.2 33.942188 14.2 \nL 33.942188 101.26875 \nQ 33.942188 103.26875 35.942188 103.26875 \nz\n\" style=\"fill:#ffffff;opacity:0.8;stroke:#cccccc;stroke-linejoin:miter;\"/>\n    </g>\n    <g id=\"line2d_17\">\n     <path d=\"M 37.942188 20.298437 \nL 57.942188 20.298437 \n\" style=\"fill:none;stroke:#1f77b4;stroke-linecap:square;stroke-width:1.5;\"/>\n    </g>\n    <g id=\"line2d_18\"/>\n    <g id=\"text_11\">\n     <!-- y=x -->\n     <g transform=\"translate(65.942188 23.798437)scale(0.1 -0.1)\">\n      <defs>\n       <path d=\"M 32.171875 -5.078125 \nQ 28.375 -14.84375 24.75 -17.8125 \nQ 21.140625 -20.796875 15.09375 -20.796875 \nL 7.90625 -20.796875 \nL 7.90625 -13.28125 \nL 13.1875 -13.28125 \nQ 16.890625 -13.28125 18.9375 -11.515625 \nQ 21 -9.765625 23.484375 -3.21875 \nL 25.09375 0.875 \nL 2.984375 54.6875 \nL 12.5 54.6875 \nL 29.59375 11.921875 \nL 46.6875 54.6875 \nL 56.203125 54.6875 \nz\n\" id=\"DejaVuSans-121\"/>\n       <path d=\"M 10.59375 45.40625 \nL 73.1875 45.40625 \nL 73.1875 37.203125 \nL 10.59375 37.203125 \nz\nM 10.59375 25.484375 \nL 73.1875 25.484375 \nL 73.1875 17.1875 \nL 10.59375 17.1875 \nz\n\" id=\"DejaVuSans-61\"/>\n       <path d=\"M 54.890625 54.6875 \nL 35.109375 28.078125 \nL 55.90625 0 \nL 45.3125 0 \nL 29.390625 21.484375 \nL 13.484375 0 \nL 2.875 0 \nL 24.125 28.609375 \nL 4.6875 54.6875 \nL 15.28125 54.6875 \nL 29.78125 35.203125 \nL 44.28125 54.6875 \nz\n\" id=\"DejaVuSans-120\"/>\n      </defs>\n      <use xlink:href=\"#DejaVuSans-121\"/>\n      <use x=\"59.179688\" xlink:href=\"#DejaVuSans-61\"/>\n      <use x=\"142.96875\" xlink:href=\"#DejaVuSans-120\"/>\n     </g>\n    </g>\n    <g id=\"line2d_19\">\n     <path d=\"M 37.942188 34.976562 \nL 57.942188 34.976562 \n\" style=\"fill:none;stroke:#ff7f0e;stroke-linecap:square;stroke-width:1.5;\"/>\n    </g>\n    <g id=\"line2d_20\"/>\n    <g id=\"text_12\">\n     <!-- y=sin(x) -->\n     <g transform=\"translate(65.942188 38.476562)scale(0.1 -0.1)\">\n      <defs>\n       <path d=\"M 44.28125 53.078125 \nL 44.28125 44.578125 \nQ 40.484375 46.53125 36.375 47.5 \nQ 32.28125 48.484375 27.875 48.484375 \nQ 21.1875 48.484375 17.84375 46.4375 \nQ 14.5 44.390625 14.5 40.28125 \nQ 14.5 37.15625 16.890625 35.375 \nQ 19.28125 33.59375 26.515625 31.984375 \nL 29.59375 31.296875 \nQ 39.15625 29.25 43.1875 25.515625 \nQ 47.21875 21.78125 47.21875 15.09375 \nQ 47.21875 7.46875 41.1875 3.015625 \nQ 35.15625 -1.421875 24.609375 -1.421875 \nQ 20.21875 -1.421875 15.453125 -0.5625 \nQ 10.6875 0.296875 5.421875 2 \nL 5.421875 11.28125 \nQ 10.40625 8.6875 15.234375 7.390625 \nQ 20.0625 6.109375 24.8125 6.109375 \nQ 31.15625 6.109375 34.5625 8.28125 \nQ 37.984375 10.453125 37.984375 14.40625 \nQ 37.984375 18.0625 35.515625 20.015625 \nQ 33.0625 21.96875 24.703125 23.78125 \nL 21.578125 24.515625 \nQ 13.234375 26.265625 9.515625 29.90625 \nQ 5.8125 33.546875 5.8125 39.890625 \nQ 5.8125 47.609375 11.28125 51.796875 \nQ 16.75 56 26.8125 56 \nQ 31.78125 56 36.171875 55.265625 \nQ 40.578125 54.546875 44.28125 53.078125 \nz\n\" id=\"DejaVuSans-115\"/>\n       <path d=\"M 9.421875 54.6875 \nL 18.40625 54.6875 \nL 18.40625 0 \nL 9.421875 0 \nz\nM 9.421875 75.984375 \nL 18.40625 75.984375 \nL 18.40625 64.59375 \nL 9.421875 64.59375 \nz\n\" id=\"DejaVuSans-105\"/>\n       <path d=\"M 54.890625 33.015625 \nL 54.890625 0 \nL 45.90625 0 \nL 45.90625 32.71875 \nQ 45.90625 40.484375 42.875 44.328125 \nQ 39.84375 48.1875 33.796875 48.1875 \nQ 26.515625 48.1875 22.3125 43.546875 \nQ 18.109375 38.921875 18.109375 30.90625 \nL 18.109375 0 \nL 9.078125 0 \nL 9.078125 54.6875 \nL 18.109375 54.6875 \nL 18.109375 46.1875 \nQ 21.34375 51.125 25.703125 53.5625 \nQ 30.078125 56 35.796875 56 \nQ 45.21875 56 50.046875 50.171875 \nQ 54.890625 44.34375 54.890625 33.015625 \nz\n\" id=\"DejaVuSans-110\"/>\n       <path d=\"M 31 75.875 \nQ 24.46875 64.65625 21.28125 53.65625 \nQ 18.109375 42.671875 18.109375 31.390625 \nQ 18.109375 20.125 21.3125 9.0625 \nQ 24.515625 -2 31 -13.1875 \nL 23.1875 -13.1875 \nQ 15.875 -1.703125 12.234375 9.375 \nQ 8.59375 20.453125 8.59375 31.390625 \nQ 8.59375 42.28125 12.203125 53.3125 \nQ 15.828125 64.359375 23.1875 75.875 \nz\n\" id=\"DejaVuSans-40\"/>\n       <path d=\"M 8.015625 75.875 \nL 15.828125 75.875 \nQ 23.140625 64.359375 26.78125 53.3125 \nQ 30.421875 42.28125 30.421875 31.390625 \nQ 30.421875 20.453125 26.78125 9.375 \nQ 23.140625 -1.703125 15.828125 -13.1875 \nL 8.015625 -13.1875 \nQ 14.5 -2 17.703125 9.0625 \nQ 20.90625 20.125 20.90625 31.390625 \nQ 20.90625 42.671875 17.703125 53.65625 \nQ 14.5 64.65625 8.015625 75.875 \nz\n\" id=\"DejaVuSans-41\"/>\n      </defs>\n      <use xlink:href=\"#DejaVuSans-121\"/>\n      <use x=\"59.179688\" xlink:href=\"#DejaVuSans-61\"/>\n      <use x=\"142.96875\" xlink:href=\"#DejaVuSans-115\"/>\n      <use x=\"195.068359\" xlink:href=\"#DejaVuSans-105\"/>\n      <use x=\"222.851562\" xlink:href=\"#DejaVuSans-110\"/>\n      <use x=\"286.230469\" xlink:href=\"#DejaVuSans-40\"/>\n      <use x=\"325.244141\" xlink:href=\"#DejaVuSans-120\"/>\n      <use x=\"384.423828\" xlink:href=\"#DejaVuSans-41\"/>\n     </g>\n    </g>\n    <g id=\"line2d_21\">\n     <path d=\"M 37.942188 49.654687 \nL 57.942188 49.654687 \n\" style=\"fill:none;stroke:#2ca02c;stroke-linecap:square;stroke-width:1.5;\"/>\n    </g>\n    <g id=\"line2d_22\"/>\n    <g id=\"text_13\">\n     <!-- y=cos(x) -->\n     <g transform=\"translate(65.942188 53.154687)scale(0.1 -0.1)\">\n      <defs>\n       <path d=\"M 48.78125 52.59375 \nL 48.78125 44.1875 \nQ 44.96875 46.296875 41.140625 47.34375 \nQ 37.3125 48.390625 33.40625 48.390625 \nQ 24.65625 48.390625 19.8125 42.84375 \nQ 14.984375 37.3125 14.984375 27.296875 \nQ 14.984375 17.28125 19.8125 11.734375 \nQ 24.65625 6.203125 33.40625 6.203125 \nQ 37.3125 6.203125 41.140625 7.25 \nQ 44.96875 8.296875 48.78125 10.40625 \nL 48.78125 2.09375 \nQ 45.015625 0.34375 40.984375 -0.53125 \nQ 36.96875 -1.421875 32.421875 -1.421875 \nQ 20.0625 -1.421875 12.78125 6.34375 \nQ 5.515625 14.109375 5.515625 27.296875 \nQ 5.515625 40.671875 12.859375 48.328125 \nQ 20.21875 56 33.015625 56 \nQ 37.15625 56 41.109375 55.140625 \nQ 45.0625 54.296875 48.78125 52.59375 \nz\n\" id=\"DejaVuSans-99\"/>\n       <path d=\"M 30.609375 48.390625 \nQ 23.390625 48.390625 19.1875 42.75 \nQ 14.984375 37.109375 14.984375 27.296875 \nQ 14.984375 17.484375 19.15625 11.84375 \nQ 23.34375 6.203125 30.609375 6.203125 \nQ 37.796875 6.203125 41.984375 11.859375 \nQ 46.1875 17.53125 46.1875 27.296875 \nQ 46.1875 37.015625 41.984375 42.703125 \nQ 37.796875 48.390625 30.609375 48.390625 \nz\nM 30.609375 56 \nQ 42.328125 56 49.015625 48.375 \nQ 55.71875 40.765625 55.71875 27.296875 \nQ 55.71875 13.875 49.015625 6.21875 \nQ 42.328125 -1.421875 30.609375 -1.421875 \nQ 18.84375 -1.421875 12.171875 6.21875 \nQ 5.515625 13.875 5.515625 27.296875 \nQ 5.515625 40.765625 12.171875 48.375 \nQ 18.84375 56 30.609375 56 \nz\n\" id=\"DejaVuSans-111\"/>\n      </defs>\n      <use xlink:href=\"#DejaVuSans-121\"/>\n      <use x=\"59.179688\" xlink:href=\"#DejaVuSans-61\"/>\n      <use x=\"142.96875\" xlink:href=\"#DejaVuSans-99\"/>\n      <use x=\"197.949219\" xlink:href=\"#DejaVuSans-111\"/>\n      <use x=\"259.130859\" xlink:href=\"#DejaVuSans-115\"/>\n      <use x=\"311.230469\" xlink:href=\"#DejaVuSans-40\"/>\n      <use x=\"350.244141\" xlink:href=\"#DejaVuSans-120\"/>\n      <use x=\"409.423828\" xlink:href=\"#DejaVuSans-41\"/>\n     </g>\n    </g>\n    <g id=\"line2d_23\">\n     <path d=\"M 37.942188 64.332812 \nL 57.942188 64.332812 \n\" style=\"fill:none;stroke:#d62728;stroke-linecap:square;stroke-width:1.5;\"/>\n    </g>\n    <g id=\"line2d_24\"/>\n    <g id=\"text_14\">\n     <!-- y=sqrt(x) -->\n     <g transform=\"translate(65.942188 67.832812)scale(0.1 -0.1)\">\n      <defs>\n       <path d=\"M 14.796875 27.296875 \nQ 14.796875 17.390625 18.875 11.75 \nQ 22.953125 6.109375 30.078125 6.109375 \nQ 37.203125 6.109375 41.296875 11.75 \nQ 45.40625 17.390625 45.40625 27.296875 \nQ 45.40625 37.203125 41.296875 42.84375 \nQ 37.203125 48.484375 30.078125 48.484375 \nQ 22.953125 48.484375 18.875 42.84375 \nQ 14.796875 37.203125 14.796875 27.296875 \nz\nM 45.40625 8.203125 \nQ 42.578125 3.328125 38.25 0.953125 \nQ 33.9375 -1.421875 27.875 -1.421875 \nQ 17.96875 -1.421875 11.734375 6.484375 \nQ 5.515625 14.40625 5.515625 27.296875 \nQ 5.515625 40.1875 11.734375 48.09375 \nQ 17.96875 56 27.875 56 \nQ 33.9375 56 38.25 53.625 \nQ 42.578125 51.265625 45.40625 46.390625 \nL 45.40625 54.6875 \nL 54.390625 54.6875 \nL 54.390625 -20.796875 \nL 45.40625 -20.796875 \nz\n\" id=\"DejaVuSans-113\"/>\n       <path d=\"M 41.109375 46.296875 \nQ 39.59375 47.171875 37.8125 47.578125 \nQ 36.03125 48 33.890625 48 \nQ 26.265625 48 22.1875 43.046875 \nQ 18.109375 38.09375 18.109375 28.8125 \nL 18.109375 0 \nL 9.078125 0 \nL 9.078125 54.6875 \nL 18.109375 54.6875 \nL 18.109375 46.1875 \nQ 20.953125 51.171875 25.484375 53.578125 \nQ 30.03125 56 36.53125 56 \nQ 37.453125 56 38.578125 55.875 \nQ 39.703125 55.765625 41.0625 55.515625 \nz\n\" id=\"DejaVuSans-114\"/>\n       <path d=\"M 18.3125 70.21875 \nL 18.3125 54.6875 \nL 36.8125 54.6875 \nL 36.8125 47.703125 \nL 18.3125 47.703125 \nL 18.3125 18.015625 \nQ 18.3125 11.328125 20.140625 9.421875 \nQ 21.96875 7.515625 27.59375 7.515625 \nL 36.8125 7.515625 \nL 36.8125 0 \nL 27.59375 0 \nQ 17.1875 0 13.234375 3.875 \nQ 9.28125 7.765625 9.28125 18.015625 \nL 9.28125 47.703125 \nL 2.6875 47.703125 \nL 2.6875 54.6875 \nL 9.28125 54.6875 \nL 9.28125 70.21875 \nz\n\" id=\"DejaVuSans-116\"/>\n      </defs>\n      <use xlink:href=\"#DejaVuSans-121\"/>\n      <use x=\"59.179688\" xlink:href=\"#DejaVuSans-61\"/>\n      <use x=\"142.96875\" xlink:href=\"#DejaVuSans-115\"/>\n      <use x=\"195.068359\" xlink:href=\"#DejaVuSans-113\"/>\n      <use x=\"258.544922\" xlink:href=\"#DejaVuSans-114\"/>\n      <use x=\"299.658203\" xlink:href=\"#DejaVuSans-116\"/>\n      <use x=\"338.867188\" xlink:href=\"#DejaVuSans-40\"/>\n      <use x=\"377.880859\" xlink:href=\"#DejaVuSans-120\"/>\n      <use x=\"437.060547\" xlink:href=\"#DejaVuSans-41\"/>\n     </g>\n    </g>\n    <g id=\"line2d_25\">\n     <path d=\"M 37.942188 79.010937 \nL 57.942188 79.010937 \n\" style=\"fill:none;stroke:#9467bd;stroke-linecap:square;stroke-width:1.5;\"/>\n    </g>\n    <g id=\"line2d_26\"/>\n    <g id=\"text_15\">\n     <!-- y=ln(x) -->\n     <g transform=\"translate(65.942188 82.510937)scale(0.1 -0.1)\">\n      <defs>\n       <path d=\"M 9.421875 75.984375 \nL 18.40625 75.984375 \nL 18.40625 0 \nL 9.421875 0 \nz\n\" id=\"DejaVuSans-108\"/>\n      </defs>\n      <use xlink:href=\"#DejaVuSans-121\"/>\n      <use x=\"59.179688\" xlink:href=\"#DejaVuSans-61\"/>\n      <use x=\"142.96875\" xlink:href=\"#DejaVuSans-108\"/>\n      <use x=\"170.751953\" xlink:href=\"#DejaVuSans-110\"/>\n      <use x=\"234.130859\" xlink:href=\"#DejaVuSans-40\"/>\n      <use x=\"273.144531\" xlink:href=\"#DejaVuSans-120\"/>\n      <use x=\"332.324219\" xlink:href=\"#DejaVuSans-41\"/>\n     </g>\n    </g>\n    <g id=\"line2d_27\">\n     <path d=\"M 37.942188 93.689062 \nL 57.942188 93.689062 \n\" style=\"fill:none;stroke:#8c564b;stroke-linecap:square;stroke-width:1.5;\"/>\n    </g>\n    <g id=\"line2d_28\"/>\n    <g id=\"text_16\">\n     <!-- y=log(x) -->\n     <g transform=\"translate(65.942188 97.189062)scale(0.1 -0.1)\">\n      <defs>\n       <path d=\"M 45.40625 27.984375 \nQ 45.40625 37.75 41.375 43.109375 \nQ 37.359375 48.484375 30.078125 48.484375 \nQ 22.859375 48.484375 18.828125 43.109375 \nQ 14.796875 37.75 14.796875 27.984375 \nQ 14.796875 18.265625 18.828125 12.890625 \nQ 22.859375 7.515625 30.078125 7.515625 \nQ 37.359375 7.515625 41.375 12.890625 \nQ 45.40625 18.265625 45.40625 27.984375 \nz\nM 54.390625 6.78125 \nQ 54.390625 -7.171875 48.1875 -13.984375 \nQ 42 -20.796875 29.203125 -20.796875 \nQ 24.46875 -20.796875 20.265625 -20.09375 \nQ 16.0625 -19.390625 12.109375 -17.921875 \nL 12.109375 -9.1875 \nQ 16.0625 -11.328125 19.921875 -12.34375 \nQ 23.78125 -13.375 27.78125 -13.375 \nQ 36.625 -13.375 41.015625 -8.765625 \nQ 45.40625 -4.15625 45.40625 5.171875 \nL 45.40625 9.625 \nQ 42.625 4.78125 38.28125 2.390625 \nQ 33.9375 0 27.875 0 \nQ 17.828125 0 11.671875 7.65625 \nQ 5.515625 15.328125 5.515625 27.984375 \nQ 5.515625 40.671875 11.671875 48.328125 \nQ 17.828125 56 27.875 56 \nQ 33.9375 56 38.28125 53.609375 \nQ 42.625 51.21875 45.40625 46.390625 \nL 45.40625 54.6875 \nL 54.390625 54.6875 \nz\n\" id=\"DejaVuSans-103\"/>\n      </defs>\n      <use xlink:href=\"#DejaVuSans-121\"/>\n      <use x=\"59.179688\" xlink:href=\"#DejaVuSans-61\"/>\n      <use x=\"142.96875\" xlink:href=\"#DejaVuSans-108\"/>\n      <use x=\"170.751953\" xlink:href=\"#DejaVuSans-111\"/>\n      <use x=\"231.933594\" xlink:href=\"#DejaVuSans-103\"/>\n      <use x=\"295.410156\" xlink:href=\"#DejaVuSans-40\"/>\n      <use x=\"334.423828\" xlink:href=\"#DejaVuSans-120\"/>\n      <use x=\"393.603516\" xlink:href=\"#DejaVuSans-41\"/>\n     </g>\n    </g>\n   </g>\n  </g>\n </g>\n <defs>\n  <clipPath id=\"pa30fc48f2c\">\n   <rect height=\"217.44\" width=\"334.8\" x=\"28.942188\" y=\"7.2\"/>\n  </clipPath>\n </defs>\n</svg>\n",
            "image/png": "[encoded data removed]"
          },
          "metadata": {
            "needs_background": "light"
          }
        }
      ],
      "source": [
        "fig =plt.figure()\n",
        "ax = fig.add_subplot(111)\n",
        "\n",
        "ax.plot(x, y, label=\"y=x\")\n",
        "ax.plot(x, y_sin, label=\"y=sin(x)\")\n",
        "ax.plot(x, y_cos, label=\"y=cos(x)\")\n",
        "ax.plot(x, y_sqrt, label=\"y=sqrt(x)\")\n",
        "ax.plot(x, y_log, label=\"y=ln(x)\")\n",
        "ax.plot(x, y_log10, label=\"y=log(x)\")\n",
        "\n",
        "ax.legend()\n",
        "plt.show()"
      ]
    },
    {
      "cell_type": "code",
      "execution_count": null,
      "metadata": {},
      "outputs": [],
      "source": []
    }
  ]
}