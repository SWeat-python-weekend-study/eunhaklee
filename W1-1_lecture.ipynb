{
  "nbformat": 4,
  "nbformat_minor": 0,
  "metadata": {
    "colab": {
      "name": "W1-Practice1.ipynb",
      "provenance": []
    },
    "kernelspec": {
      "name": "python3",
      "display_name": "Python 3"
    }
  },
  "cells": [
    {
      "cell_type": "markdown",
      "metadata": {
        "id": "tE7xmd9aRv5S"
      },
      "source": [
        "# SWeat 파이썬 W1-1\r\n",
        "notebook 테스트입니다"
      ]
    },
    {
      "cell_type": "code",
      "metadata": {
        "colab": {
          "base_uri": "https://localhost:8080/"
        },
        "id": "lTAYeOZsRvWg",
        "outputId": "b33cd9fd-259d-465c-eefc-8e42c7e49af9"
      },
      "source": [
        "!ls"
      ],
      "execution_count": 2,
      "outputs": [
        {
          "output_type": "stream",
          "text": [
            "KK  dpyenv  hong.py  install.sh  jupyterenv  ps  run_jupyter.sh  yohan\r\n"
          ],
          "name": "stdout"
        }
      ]
    },
    {
      "cell_type": "code",
      "metadata": {
        "colab": {
          "base_uri": "https://localhost:8080/"
        },
        "id": "vD3zXLGwVOxE",
        "outputId": "177b1eea-51b2-4477-9654-9805f9d40af6"
      },
      "source": [
        "!pwd"
      ],
      "execution_count": 3,
      "outputs": [
        {
          "output_type": "stream",
          "text": [
            "/home/enak\r\n"
          ],
          "name": "stdout"
        }
      ]
    },
    {
      "cell_type": "markdown",
      "metadata": {
        "id": "mmeVoG4BVP59"
      },
      "source": [
        "## 1. iterator\r\n",
        "- lazy evaluation: not to prepare all values, then evaluate when required"
      ]
    },
    {
      "cell_type": "markdown",
      "metadata": {
        "id": "Fnaz_ybQYgWZ"
      },
      "source": [
        "### 1.1 iterable\r\n",
        "- Facts\r\n",
        "    - `iterable.__iter__()` and `iter(iterable)` return `iterator` object\r\n",
        "    - `iterator.__next__()` and `next(iterator)` fetch following value of iterator"
      ]
    },
    {
      "cell_type": "code",
      "metadata": {
        "colab": {
          "base_uri": "https://localhost:8080/"
        },
        "id": "MXaSXTSeVUo3",
        "outputId": "773a123a-09af-4034-d975-ac6b0dfba8a9"
      },
      "source": [
        "l = [1, 2, 3]\r\n",
        "\"__iter__\" in dir(l)"
      ],
      "execution_count": 5,
      "outputs": [
        {
          "output_type": "execute_result",
          "data": {
            "text/plain": [
              "True"
            ]
          },
          "metadata": {
            "tags": []
          },
          "execution_count": 5
        }
      ]
    },
    {
      "cell_type": "code",
      "metadata": {
        "colab": {
          "base_uri": "https://localhost:8080/"
        },
        "id": "wzCjKxrwVXqY",
        "outputId": "329e072a-d5ca-4551-c9e3-6887188946ea"
      },
      "source": [
        "for x in l:\r\n",
        "    print(x)"
      ],
      "execution_count": 6,
      "outputs": [
        {
          "output_type": "stream",
          "text": [
            "1\n",
            "2\n",
            "3\n"
          ],
          "name": "stdout"
        }
      ]
    },
    {
      "cell_type": "code",
      "metadata": {
        "colab": {
          "base_uri": "https://localhost:8080/"
        },
        "id": "q_NBpQ3fVPJA",
        "outputId": "6bd2f52d-7c6a-4a57-98ce-acc99de2e608"
      },
      "source": [
        "it = iter(\"abcdefghijklmnop\")\r\n",
        "print(it)"
      ],
      "execution_count": 10,
      "outputs": [
        {
          "output_type": "stream",
          "text": [
            "<str_iterator object at 0x7f49ac240970>\n"
          ],
          "name": "stdout"
        }
      ]
    },
    {
      "cell_type": "code",
      "metadata": {
        "colab": {
          "base_uri": "https://localhost:8080/"
        },
        "id": "UrhPD0D4W_BJ",
        "outputId": "07e89944-db10-43e4-a266-5378bbde551a"
      },
      "source": [
        "it = range(10).__iter__()\r\n",
        "for i in it:\r\n",
        "    print(i)"
      ],
      "execution_count": 11,
      "outputs": [
        {
          "output_type": "stream",
          "text": [
            "0\n",
            "1\n",
            "2\n",
            "3\n",
            "4\n",
            "5\n",
            "6\n",
            "7\n",
            "8\n",
            "9\n"
          ],
          "name": "stdout"
        }
      ]
    },
    {
      "cell_type": "markdown",
      "metadata": {
        "id": "ITS5yFwVYbAv"
      },
      "source": [
        "### 1.2 generator\r\n",
        "> Generative functions generate values via `yield` keyword\r\n",
        "\r\n",
        "`yield` -> anchor for iteration"
      ]
    },
    {
      "cell_type": "code",
      "metadata": {
        "colab": {
          "base_uri": "https://localhost:8080/"
        },
        "id": "VlL5iWqmYdAw",
        "outputId": "9bdd0827-5aa8-4a7e-f25b-b84d0452590e"
      },
      "source": [
        "def g():\r\n",
        "    yield \"one\"\r\n",
        "    yield \"two\"\r\n",
        "    yield \"three as last\"\r\n",
        "\r\n",
        "print(g())\r\n",
        "\r\n",
        "for v in g():\r\n",
        "    print(v)"
      ],
      "execution_count": 15,
      "outputs": [
        {
          "output_type": "stream",
          "text": [
            "<generator object g at 0x7f49ac46e740>\n",
            "one\n",
            "two\n",
            "three as last\n"
          ],
          "name": "stdout"
        }
      ]
    },
    {
      "cell_type": "markdown",
      "metadata": {
        "id": "gZsWjOoubrfM"
      },
      "source": [
        "## 2. Ternary Operators\r\n",
        "```python\r\n",
        "ret = true_value if condition else false_value\r\n",
        "```\r\n"
      ]
    },
    {
      "cell_type": "code",
      "metadata": {
        "id": "XluQ3ZSJXPQJ"
      },
      "source": [
        "def confirm(x):\r\n",
        "    return \"1이다\" if x == 1 else \"3이다\" if x == 3 else \"neither 1 nor 3\""
      ],
      "execution_count": 16,
      "outputs": []
    },
    {
      "cell_type": "code",
      "metadata": {
        "colab": {
          "base_uri": "https://localhost:8080/"
        },
        "id": "tNZgFKOyc_4m",
        "outputId": "6d755bea-583c-4221-de2a-c9dc066ca0cf"
      },
      "source": [
        "confirm(1)"
      ],
      "execution_count": 17,
      "outputs": [
        {
          "output_type": "execute_result",
          "data": {
            "text/plain": [
              "'1이다'"
            ]
          },
          "metadata": {
            "tags": []
          },
          "execution_count": 17
        }
      ]
    },
    {
      "cell_type": "code",
      "metadata": {
        "colab": {
          "base_uri": "https://localhost:8080/"
        },
        "id": "8wqe4Oj-dA5W",
        "outputId": "824a802a-0ea4-41ca-dbdd-54cb580e312a"
      },
      "source": [
        "confirm(3)"
      ],
      "execution_count": 18,
      "outputs": [
        {
          "output_type": "execute_result",
          "data": {
            "text/plain": [
              "'3이다'"
            ]
          },
          "metadata": {
            "tags": []
          },
          "execution_count": 18
        }
      ]
    },
    {
      "cell_type": "code",
      "metadata": {
        "colab": {
          "base_uri": "https://localhost:8080/"
        },
        "id": "JclGs44odBdV",
        "outputId": "17f20eb2-e97e-49d9-dd8d-89a37534668b"
      },
      "source": [
        "confirm (5)"
      ],
      "execution_count": 19,
      "outputs": [
        {
          "output_type": "execute_result",
          "data": {
            "text/plain": [
              "'neither 1 nor 3'"
            ]
          },
          "metadata": {
            "tags": []
          },
          "execution_count": 19
        }
      ]
    },
    {
      "cell_type": "markdown",
      "metadata": {
        "id": "WILCwxM6dFdq"
      },
      "source": [
        "## 3. List\r\n",
        "- slicing: `list[from:lt:step]`\r\n",
        "    - `from` defaults 0,\r\n",
        "    `lt` defaults the end of the iterable,\r\n",
        "    `step` defaults 1\r\n",
        "    - `lt` does not contain itself (less than)"
      ]
    },
    {
      "cell_type": "code",
      "metadata": {
        "id": "iXJlreH6dB69"
      },
      "source": [
        "a = [1, 2, 3, 4, 5]"
      ],
      "execution_count": 20,
      "outputs": []
    },
    {
      "cell_type": "code",
      "metadata": {
        "colab": {
          "base_uri": "https://localhost:8080/"
        },
        "id": "rdpoAOLLdId8",
        "outputId": "0527f519-b31c-433c-b83d-d333dbc5bc63"
      },
      "source": [
        "a.append(6)\r\n",
        "print(a)"
      ],
      "execution_count": 21,
      "outputs": [
        {
          "output_type": "stream",
          "text": [
            "[1, 2, 3, 4, 5, 6]\n"
          ],
          "name": "stdout"
        }
      ]
    },
    {
      "cell_type": "code",
      "metadata": {
        "colab": {
          "base_uri": "https://localhost:8080/"
        },
        "id": "TiKWcsVPdKVl",
        "outputId": "b97e87db-abdd-478c-ed19-22541f4a04d6"
      },
      "source": [
        "del a[0]\r\n",
        "print(a)"
      ],
      "execution_count": 22,
      "outputs": [
        {
          "output_type": "stream",
          "text": [
            "[2, 3, 4, 5, 6]\n"
          ],
          "name": "stdout"
        }
      ]
    },
    {
      "cell_type": "code",
      "metadata": {
        "colab": {
          "base_uri": "https://localhost:8080/"
        },
        "id": "l6-o9L4BdMCf",
        "outputId": "74c44a1c-5b07-45ce-cffe-9ad808cdc710"
      },
      "source": [
        "b = [1, 2, 3, 4, 5]\r\n",
        "print(b[:2])"
      ],
      "execution_count": 23,
      "outputs": [
        {
          "output_type": "stream",
          "text": [
            "[1, 2]\n"
          ],
          "name": "stdout"
        }
      ]
    },
    {
      "cell_type": "markdown",
      "metadata": {
        "id": "kUMYVpbXd5aF"
      },
      "source": [
        "### 3.2. List comprehension\r\n",
        "> ```python\r\n",
        "[<value> for <parameter> in <iterable> (if <condition>)]\r\n",
        "```\r\n",
        "\r\n",
        "- `value` can be ternacy condition-expression\r\n",
        "    - `[<value> if <condition> else <else-value> for <parameter> in <iterable> (if <condition>)]`"
      ]
    },
    {
      "cell_type": "code",
      "metadata": {
        "colab": {
          "base_uri": "https://localhost:8080/"
        },
        "id": "D8xnKDmGdPJv",
        "outputId": "901d62c7-1f2b-462b-8be6-fd65fdbb6629"
      },
      "source": [
        "c = [v for v in range(10)]\r\n",
        "print(c)"
      ],
      "execution_count": 25,
      "outputs": [
        {
          "output_type": "stream",
          "text": [
            "[0, 1, 2, 3, 4, 5, 6, 7, 8, 9]\n"
          ],
          "name": "stdout"
        }
      ]
    },
    {
      "cell_type": "code",
      "metadata": {
        "colab": {
          "base_uri": "https://localhost:8080/"
        },
        "id": "9LQa2yoBeG_y",
        "outputId": "6896d342-a033-4018-d7d7-44a0113769f6"
      },
      "source": [
        "[v for v in range(10) if v % 2 == 1]"
      ],
      "execution_count": 28,
      "outputs": [
        {
          "output_type": "execute_result",
          "data": {
            "text/plain": [
              "[1, 3, 5, 7, 9]"
            ]
          },
          "metadata": {
            "tags": []
          },
          "execution_count": 28
        }
      ]
    },
    {
      "cell_type": "code",
      "metadata": {
        "colab": {
          "base_uri": "https://localhost:8080/",
          "height": 136
        },
        "id": "yrNyrAuJeTYd",
        "outputId": "f0df20b7-94c2-4810-d516-b7103103e97f"
      },
      "source": [
        "[v for v in range(10) if v % 2 == 1 else 0]"
      ],
      "execution_count": 29,
      "outputs": [
        {
          "output_type": "error",
          "ename": "SyntaxError",
          "evalue": "ignored",
          "traceback": [
            "\u001b[0;36m  File \u001b[0;32m\"<ipython-input-29-0c3d465fb441>\"\u001b[0;36m, line \u001b[0;32m1\u001b[0m\n\u001b[0;31m    [v for v in range(10) if v % 2 == 1 else 0]\u001b[0m\n\u001b[0m                                        ^\u001b[0m\n\u001b[0;31mSyntaxError\u001b[0m\u001b[0;31m:\u001b[0m invalid syntax\n"
          ]
        }
      ]
    },
    {
      "cell_type": "code",
      "metadata": {
        "colab": {
          "base_uri": "https://localhost:8080/"
        },
        "id": "wUYPJuSNeNSR",
        "outputId": "aed34385-e1ef-494b-ec42-094cef5e4b1a"
      },
      "source": [
        "[v if v % 2 == 1 else 0 for v in range(10)]"
      ],
      "execution_count": 27,
      "outputs": [
        {
          "output_type": "execute_result",
          "data": {
            "text/plain": [
              "[0, 1, 0, 3, 0, 5, 0, 7, 0, 9]"
            ]
          },
          "metadata": {
            "tags": []
          },
          "execution_count": 27
        }
      ]
    },
    {
      "cell_type": "markdown",
      "metadata": {
        "id": "zE-ajAiXf3Ls"
      },
      "source": [
        "## 4. Function\r\n",
        "> ```python\r\n",
        "def func_name(*args, **kwargs):\r\n",
        "    pass\r\n",
        "```"
      ]
    },
    {
      "cell_type": "code",
      "metadata": {
        "id": "QKi48WNveS4I"
      },
      "source": [
        "def fibo(n):\r\n",
        "    return fibo(n - 1) + fibo(n - 2) if n > 2 else 1"
      ],
      "execution_count": 39,
      "outputs": []
    },
    {
      "cell_type": "code",
      "metadata": {
        "colab": {
          "base_uri": "https://localhost:8080/"
        },
        "id": "XqmOmMz7gCbb",
        "outputId": "cb8028ec-e5a2-4fbd-f1ea-f9c5a42e016d"
      },
      "source": [
        "print(fibo(5))"
      ],
      "execution_count": 40,
      "outputs": [
        {
          "output_type": "stream",
          "text": [
            "5\n"
          ],
          "name": "stdout"
        }
      ]
    },
    {
      "cell_type": "code",
      "metadata": {
        "colab": {
          "base_uri": "https://localhost:8080/"
        },
        "id": "wiumRIc9gDX-",
        "outputId": "7382a99f-b10b-40ed-d3bc-5c9c263ebc3f"
      },
      "source": [
        "print(fibo(10))"
      ],
      "execution_count": 41,
      "outputs": [
        {
          "output_type": "stream",
          "text": [
            "55\n"
          ],
          "name": "stdout"
        }
      ]
    },
    {
      "cell_type": "code",
      "metadata": {
        "colab": {
          "base_uri": "https://localhost:8080/"
        },
        "id": "AoT54ovkgEpS",
        "outputId": "7c3b2a4b-bb5d-4ab2-a65b-02da644a05b7"
      },
      "source": [
        "print(fibo(20))"
      ],
      "execution_count": 42,
      "outputs": [
        {
          "output_type": "stream",
          "text": [
            "6765\n"
          ],
          "name": "stdout"
        }
      ]
    },
    {
      "cell_type": "markdown",
      "metadata": {
        "id": "hONP5yirgKix"
      },
      "source": [
        "### 4.2 lambda, the function\r\n",
        "> ```python\r\n",
        "func_name = lambda (args): (value)\r\n",
        "```"
      ]
    },
    {
      "cell_type": "code",
      "metadata": {
        "id": "SAt-2O0AgIn6"
      },
      "source": [
        "square = lambda x: x ** 2"
      ],
      "execution_count": 36,
      "outputs": []
    },
    {
      "cell_type": "code",
      "metadata": {
        "colab": {
          "base_uri": "https://localhost:8080/"
        },
        "id": "IcNaDNXcgfWg",
        "outputId": "925d14c1-c0bd-4943-ee55-4f0bb0ee488a"
      },
      "source": [
        "print(square(195))"
      ],
      "execution_count": 37,
      "outputs": [
        {
          "output_type": "stream",
          "text": [
            "38025\n"
          ],
          "name": "stdout"
        }
      ]
    },
    {
      "cell_type": "code",
      "metadata": {
        "id": "IPacfcwRghru"
      },
      "source": [
        "fibo_as_lambda = lambda n: (fibo_as_lambda(n - 1) + fibo_as_lambda(n - 2)) if n > 2 else 1"
      ],
      "execution_count": 45,
      "outputs": []
    },
    {
      "cell_type": "code",
      "metadata": {
        "colab": {
          "base_uri": "https://localhost:8080/"
        },
        "id": "LFOf1Sm4hNCT",
        "outputId": "f7600ddb-02d4-495f-c9c7-6cd53c55979a"
      },
      "source": [
        "print(fibo_as_lambda(5))"
      ],
      "execution_count": 46,
      "outputs": [
        {
          "output_type": "stream",
          "text": [
            "5\n"
          ],
          "name": "stdout"
        }
      ]
    },
    {
      "cell_type": "code",
      "metadata": {
        "colab": {
          "base_uri": "https://localhost:8080/"
        },
        "id": "ttVYkVLHhOvO",
        "outputId": "38765ff6-c37a-4cbe-c54a-b56bd9436258"
      },
      "source": [
        "print(fibo_as_lambda(10))"
      ],
      "execution_count": 47,
      "outputs": [
        {
          "output_type": "stream",
          "text": [
            "55\n"
          ],
          "name": "stdout"
        }
      ]
    },
    {
      "cell_type": "code",
      "metadata": {
        "colab": {
          "base_uri": "https://localhost:8080/"
        },
        "id": "fgyna9swhPtZ",
        "outputId": "5c21cfc6-8343-4ec2-c6b9-81001f0441cd"
      },
      "source": [
        "print(fibo_as_lambda(20))"
      ],
      "execution_count": 48,
      "outputs": [
        {
          "output_type": "stream",
          "text": [
            "6765\n"
          ],
          "name": "stdout"
        }
      ]
    },
    {
      "cell_type": "markdown",
      "metadata": {
        "id": "ZqlM0wFXhU26"
      },
      "source": [
        "Python functions are also object (first-class)"
      ]
    },
    {
      "cell_type": "code",
      "metadata": {
        "colab": {
          "base_uri": "https://localhost:8080/"
        },
        "id": "I94fUS95hRQJ",
        "outputId": "65dcd2a1-094f-49f8-87a8-4b55a1f94101"
      },
      "source": [
        "functions = [\r\n",
        "    lambda x: x ** 2,\r\n",
        "    lambda x: x ** 3,\r\n",
        "    lambda x: x ** 4\r\n",
        "]\r\n",
        "\r\n",
        "for f in functions:\r\n",
        "    print(f(5))"
      ],
      "execution_count": 49,
      "outputs": [
        {
          "output_type": "stream",
          "text": [
            "25\n",
            "125\n",
            "625\n"
          ],
          "name": "stdout"
        }
      ]
    },
    {
      "cell_type": "code",
      "metadata": {
        "id": "ndY_EtB3h6PH"
      },
      "source": [
        "get_function = lambda n: [f(n) for f in functions]"
      ],
      "execution_count": 53,
      "outputs": []
    },
    {
      "cell_type": "code",
      "metadata": {
        "colab": {
          "base_uri": "https://localhost:8080/"
        },
        "id": "vNHjlrzAh23x",
        "outputId": "442a14e9-abf6-4dfc-ed00-e77e3ea63cdf"
      },
      "source": [
        "print(get_function(5))"
      ],
      "execution_count": 54,
      "outputs": [
        {
          "output_type": "stream",
          "text": [
            "[25, 125, 625]\n"
          ],
          "name": "stdout"
        }
      ]
    },
    {
      "cell_type": "code",
      "metadata": {
        "colab": {
          "base_uri": "https://localhost:8080/"
        },
        "id": "5Snptv5UhrNA",
        "outputId": "a21ea200-f53a-476c-d6e0-474b6774d271"
      },
      "source": [
        "print(functions)\r\n",
        "print(functions[0])\r\n",
        "print(isinstance(functions[0], object))"
      ],
      "execution_count": 52,
      "outputs": [
        {
          "output_type": "stream",
          "text": [
            "[<function <lambda> at 0x7f49977da4c0>, <function <lambda> at 0x7f4997eb84c0>, <function <lambda> at 0x7f49ac340d30>]\n",
            "<function <lambda> at 0x7f49977da4c0>\n",
            "True\n"
          ],
          "name": "stdout"
        }
      ]
    },
    {
      "cell_type": "markdown",
      "metadata": {
        "id": "aN0mVTFwiRLJ"
      },
      "source": [
        "- `lambda` can accept `*args` and `**kwargs` as parameter"
      ]
    },
    {
      "cell_type": "code",
      "metadata": {
        "id": "2VGlbvDAiFYo"
      },
      "source": [
        "bare = lambda *args: args"
      ],
      "execution_count": 55,
      "outputs": []
    },
    {
      "cell_type": "code",
      "metadata": {
        "colab": {
          "base_uri": "https://localhost:8080/"
        },
        "id": "fxZ4FCU6ieHY",
        "outputId": "9d5e60f6-aa6c-45f6-f81b-e6abcfaa6688"
      },
      "source": [
        "print(bare(10, 20, 30, 40, 50))"
      ],
      "execution_count": 57,
      "outputs": [
        {
          "output_type": "stream",
          "text": [
            "(10, 20, 30, 40, 50)\n"
          ],
          "name": "stdout"
        }
      ]
    },
    {
      "cell_type": "code",
      "metadata": {
        "colab": {
          "base_uri": "https://localhost:8080/"
        },
        "id": "926YQYoaif5F",
        "outputId": "aacbf611-3afb-495e-e35e-73723118091f"
      },
      "source": [
        "joiner = lambda *strings: \" \".join(strings)\r\n",
        "print(joiner(\"I\", \"am\", \"eunhak\", \"lee\"))"
      ],
      "execution_count": 58,
      "outputs": [
        {
          "output_type": "stream",
          "text": [
            "I am eunhak lee\n"
          ],
          "name": "stdout"
        }
      ]
    },
    {
      "cell_type": "code",
      "metadata": {
        "colab": {
          "base_uri": "https://localhost:8080/"
        },
        "id": "zhBBJjvoie7W",
        "outputId": "345f1f40-7469-40c9-efda-51dc26ec4c3b"
      },
      "source": [
        "swapper = lambda **kwargs: dict((v, k) for k, v in kwargs.items())\r\n",
        "print(swapper(**{\r\n",
        "    \"name\": \"Eunhak Lee\",\r\n",
        "    \"age\": 21,\r\n",
        "    \"country\": \"Republic of Korea\"\r\n",
        "}))"
      ],
      "execution_count": 59,
      "outputs": [
        {
          "output_type": "stream",
          "text": [
            "{'Eunhak Lee': 'name', 21: 'age', 'Republic of Korea': 'country'}\n"
          ],
          "name": "stdout"
        }
      ]
    },
    {
      "cell_type": "code",
      "metadata": {
        "colab": {
          "base_uri": "https://localhost:8080/"
        },
        "id": "I-5BX-Q7i2f_",
        "outputId": "75953026-f312-4c0d-f95e-22bac3ffadbc"
      },
      "source": [
        "swap = lambda a, b: (b, a)\r\n",
        "print(swap(1, 2))"
      ],
      "execution_count": 60,
      "outputs": [
        {
          "output_type": "stream",
          "text": [
            "(2, 1)\n"
          ],
          "name": "stdout"
        }
      ]
    },
    {
      "cell_type": "code",
      "metadata": {
        "colab": {
          "base_uri": "https://localhost:8080/"
        },
        "id": "UD-rb3RBjI52",
        "outputId": "40393499-7f0a-4215-9f59-05292f2e802d"
      },
      "source": [
        "universal_function = lambda *args, **kwargs: (args, kwargs)\r\n",
        "print(universal_function(\r\n",
        "    1, 2, 3, 4, 5,\r\n",
        "    foo=\"bar\",\r\n",
        "    hello=\"python\"\r\n",
        "))"
      ],
      "execution_count": 61,
      "outputs": [
        {
          "output_type": "stream",
          "text": [
            "((1, 2, 3, 4, 5), {'foo': 'bar', 'hello': 'python'})\n"
          ],
          "name": "stdout"
        }
      ]
    },
    {
      "cell_type": "code",
      "metadata": {
        "id": "JQobiotLjX2A"
      },
      "source": [
        "import functools\r\n",
        "calculator = lambda operation, data: sum(data) if operation == \"sum\" else functools.reduce(lambda a, b: a * b, data) if operation == \"mul\" else -1"
      ],
      "execution_count": 71,
      "outputs": []
    },
    {
      "cell_type": "code",
      "metadata": {
        "colab": {
          "base_uri": "https://localhost:8080/"
        },
        "id": "i03qeHD8j-zx",
        "outputId": "3000f187-891e-4f93-e103-f8ff84038a62"
      },
      "source": [
        "calculator(\r\n",
        "    data=[1, 2, 3, 4, 5],\r\n",
        "    operation=\"sum\"\r\n",
        ")"
      ],
      "execution_count": 72,
      "outputs": [
        {
          "output_type": "execute_result",
          "data": {
            "text/plain": [
              "15"
            ]
          },
          "metadata": {
            "tags": []
          },
          "execution_count": 72
        }
      ]
    },
    {
      "cell_type": "code",
      "metadata": {
        "colab": {
          "base_uri": "https://localhost:8080/"
        },
        "id": "DjkHxvTQkE1H",
        "outputId": "ea733ab7-1b28-4ba9-c5b3-870df3d3753b"
      },
      "source": [
        "calculator(\r\n",
        "    data=[1, 2, 3, 4, 5],\r\n",
        "    operation=\"mul\"\r\n",
        ")"
      ],
      "execution_count": 73,
      "outputs": [
        {
          "output_type": "execute_result",
          "data": {
            "text/plain": [
              "120"
            ]
          },
          "metadata": {
            "tags": []
          },
          "execution_count": 73
        }
      ]
    },
    {
      "cell_type": "markdown",
      "metadata": {
        "id": "oN2GAxPYkwtl"
      },
      "source": [
        "## 5. File I/O"
      ]
    },
    {
      "cell_type": "code",
      "metadata": {
        "colab": {
          "base_uri": "https://localhost:8080/"
        },
        "id": "5ROAtzQUk5Rr",
        "outputId": "e7f47484-47f9-412d-8a72-935f9915b14f"
      },
      "source": [
        "pwd"
      ],
      "execution_count": 87,
      "outputs": [
        {
          "output_type": "execute_result",
          "data": {
            "text/plain": [
              "'/home/enak'"
            ]
          },
          "metadata": {
            "tags": []
          },
          "execution_count": 87
        }
      ]
    },
    {
      "cell_type": "code",
      "metadata": {
        "colab": {
          "base_uri": "https://localhost:8080/"
        },
        "id": "mctDgnaulIZf",
        "outputId": "95ee986e-a142-4098-90b4-627d5dfd1761"
      },
      "source": [
        "ls"
      ],
      "execution_count": 86,
      "outputs": [
        {
          "output_type": "stream",
          "text": [
            "\u001b[0m\u001b[01;34mKK\u001b[0m/      hong.py     \u001b[01;34mjupyterenv\u001b[0m/  \u001b[01;32mrun_jupyter.sh\u001b[0m*  \u001b[01;34myohan\u001b[0m/\r\n",
            "\u001b[01;34mdpyenv\u001b[0m/  install.sh  \u001b[01;34mps\u001b[0m/          student.txt\r\n"
          ],
          "name": "stdout"
        }
      ]
    },
    {
      "cell_type": "code",
      "metadata": {
        "colab": {
          "base_uri": "https://localhost:8080/"
        },
        "id": "Gzl8gB-FkGk8",
        "outputId": "e3a82644-87a3-4834-cc2a-18624b6ea000"
      },
      "source": [
        "with open(\"student.txt\", 'r', encoding=\"euc-kr\") as f:\r\n",
        "    sample = f.readline()\r\n",
        "\r\n",
        "print(sample)\r\n",
        "sample = sample[:-1]  # remove CRLF\r\n",
        "print(sample)"
      ],
      "execution_count": 92,
      "outputs": [
        {
          "output_type": "stream",
          "text": [
            "태서연;54;72;60;78\n",
            "\n",
            "태서연;54;72;60;78\n"
          ],
          "name": "stdout"
        }
      ]
    },
    {
      "cell_type": "code",
      "metadata": {
        "colab": {
          "base_uri": "https://localhost:8080/"
        },
        "id": "c4qGSxBGmaLA",
        "outputId": "6264090e-cd15-4cec-88d8-5273e61d2a94"
      },
      "source": [
        "print(sample.split(\";\"))"
      ],
      "execution_count": 93,
      "outputs": [
        {
          "output_type": "stream",
          "text": [
            "['태서연', '54', '72', '60', '78']\n"
          ],
          "name": "stdout"
        }
      ]
    },
    {
      "cell_type": "code",
      "metadata": {
        "colab": {
          "base_uri": "https://localhost:8080/"
        },
        "id": "AKzPf-Xuk4u1",
        "outputId": "7cbccbdd-f5c1-4abc-c732-4e8143b0fe83"
      },
      "source": [
        "nums = [int(x) for x in sample.split(\";\") if x.isnumeric()]\r\n",
        "print(nums)"
      ],
      "execution_count": 95,
      "outputs": [
        {
          "output_type": "stream",
          "text": [
            "[54, 72, 60, 78]\n"
          ],
          "name": "stdout"
        }
      ]
    },
    {
      "cell_type": "code",
      "metadata": {
        "colab": {
          "base_uri": "https://localhost:8080/"
        },
        "id": "dUG63JhjkCgb",
        "outputId": "4e3b72d1-1748-4fc4-9f5c-b8d2bac16067"
      },
      "source": [
        "sum(nums)"
      ],
      "execution_count": 96,
      "outputs": [
        {
          "output_type": "execute_result",
          "data": {
            "text/plain": [
              "264"
            ]
          },
          "metadata": {
            "tags": []
          },
          "execution_count": 96
        }
      ]
    },
    {
      "cell_type": "code",
      "metadata": {
        "colab": {
          "base_uri": "https://localhost:8080/"
        },
        "id": "DaazwEL-j9eW",
        "outputId": "1d2d4673-c779-4a61-e74e-55921a55ce0e"
      },
      "source": [
        "f = lambda line: sum(int(x) for x in line.split(\";\")[1:])\r\n",
        "print(f(sample))"
      ],
      "execution_count": 98,
      "outputs": [
        {
          "output_type": "stream",
          "text": [
            "264\n"
          ],
          "name": "stdout"
        }
      ]
    },
    {
      "cell_type": "code",
      "metadata": {
        "colab": {
          "base_uri": "https://localhost:8080/"
        },
        "id": "QMhTwnCRj8lH",
        "outputId": "b433de4c-526f-4ef7-eda3-93ca6b765a7d"
      },
      "source": [
        "sampler = lambda line: (line.split(\";\")[0], [int(v) for v in line.split(\";\")[1:]])\r\n",
        "print(sampler(sample))"
      ],
      "execution_count": 107,
      "outputs": [
        {
          "output_type": "stream",
          "text": [
            "('태서연', [54, 72, 60, 78])\n"
          ],
          "name": "stdout"
        }
      ]
    },
    {
      "cell_type": "code",
      "metadata": {
        "id": "lE0pRdWEh0ct"
      },
      "source": [
        "# both are same\r\n",
        "grade_calculator = lambda s, operation: (s[0], sum(s[1])) if operation == \"sum\" else (s[0], sum(s[1])/len(s[1])) if operation == \"avg\" else (s[0], None)\r\n",
        "grade_calculator = lambda s, operation: (s[0], sum(s[1]) if operation == \"sum\" else sum(s[1])/len(s[1]) if operation == \"avg\" else None)"
      ],
      "execution_count": 114,
      "outputs": []
    },
    {
      "cell_type": "code",
      "metadata": {
        "colab": {
          "base_uri": "https://localhost:8080/"
        },
        "id": "--gAuLBIohBQ",
        "outputId": "c9251ff5-99f9-4fad-f9f3-bf8b5ce0f485"
      },
      "source": [
        "print(grade_calculator(\r\n",
        "    s=sampler(sample),\r\n",
        "    operation=\"sum\"\r\n",
        "))"
      ],
      "execution_count": 115,
      "outputs": [
        {
          "output_type": "stream",
          "text": [
            "('태서연', 264)\n"
          ],
          "name": "stdout"
        }
      ]
    },
    {
      "cell_type": "code",
      "metadata": {
        "colab": {
          "base_uri": "https://localhost:8080/"
        },
        "id": "e2LAOT5_olEj",
        "outputId": "91dcaaea-22e5-423f-c4db-e60c939d93da"
      },
      "source": [
        "print(grade_calculator(\r\n",
        "    s=sampler(sample),\r\n",
        "    operation=\"avg\"\r\n",
        "))"
      ],
      "execution_count": 116,
      "outputs": [
        {
          "output_type": "stream",
          "text": [
            "('태서연', 66.0)\n"
          ],
          "name": "stdout"
        }
      ]
    },
    {
      "cell_type": "code",
      "metadata": {
        "id": "gXkglAsneD6q"
      },
      "source": [
        ""
      ],
      "execution_count": null,
      "outputs": []
    }
  ]
}