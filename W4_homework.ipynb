{
  "nbformat": 4,
  "nbformat_minor": 0,
  "metadata": {
    "colab": {
      "name": "W4-Homework.ipynb",
      "provenance": [],
      "collapsed_sections": []
    },
    "kernelspec": {
      "name": "python3",
      "display_name": "Python 3"
    }
  },
  "cells": [
    {
      "cell_type": "code",
      "metadata": {
        "id": "runllS3ifhrx"
      },
      "source": [
        "import pandas as pd\r\n",
        "import numpy as np\r\n",
        "import seaborn as sns\r\n",
        "import matplotlib.pyplot as plt"
      ],
      "execution_count": 1,
      "outputs": []
    },
    {
      "cell_type": "markdown",
      "metadata": {
        "id": "9MozJBOTgMZM"
      },
      "source": [
        "## 연습 문제 4.8.1\r\n",
        "\r\n",
        "다음 명령으로 만들어진 데이터프레임에 대해 월별 value의 합계를 구하라. (힌트: groupby 메서드와 dt 접근자를 사용하라)\r\n",
        "\r\n",
        "```python\r\n",
        "np.random.seed(0)\r\n",
        "df = pd.DataFrame({\r\n",
        "    \"date\": pd.date_range(\"2020-12-25\", periods=100, freq=\"D\"), \r\n",
        "    \"value\": np.random.randint(100, size=(100,))\r\n",
        "})\r\n",
        "```"
      ]
    },
    {
      "cell_type": "code",
      "metadata": {
        "id": "-W2VCcR6fp9t"
      },
      "source": [
        "np.random.seed(0)\r\n",
        "df = pd.DataFrame({\r\n",
        "    \"date\": pd.date_range(\"2020-12-25\", periods=100, freq=\"D\"), \r\n",
        "    \"value\": np.random.randint(100, size=(100,))\r\n",
        "})"
      ],
      "execution_count": 2,
      "outputs": []
    },
    {
      "cell_type": "code",
      "metadata": {
        "colab": {
          "base_uri": "https://localhost:8080/",
          "height": 204
        },
        "id": "izS1PBxQgREo",
        "outputId": "ee241c62-c649-44d2-e30d-f4c3ead892f4"
      },
      "source": [
        "df.tail()"
      ],
      "execution_count": 4,
      "outputs": [
        {
          "output_type": "execute_result",
          "data": {
            "text/html": [
              "<div>\n",
              "<style scoped>\n",
              "    .dataframe tbody tr th:only-of-type {\n",
              "        vertical-align: middle;\n",
              "    }\n",
              "\n",
              "    .dataframe tbody tr th {\n",
              "        vertical-align: top;\n",
              "    }\n",
              "\n",
              "    .dataframe thead th {\n",
              "        text-align: right;\n",
              "    }\n",
              "</style>\n",
              "<table border=\"1\" class=\"dataframe\">\n",
              "  <thead>\n",
              "    <tr style=\"text-align: right;\">\n",
              "      <th></th>\n",
              "      <th>date</th>\n",
              "      <th>value</th>\n",
              "    </tr>\n",
              "  </thead>\n",
              "  <tbody>\n",
              "    <tr>\n",
              "      <th>95</th>\n",
              "      <td>2021-03-30</td>\n",
              "      <td>23</td>\n",
              "    </tr>\n",
              "    <tr>\n",
              "      <th>96</th>\n",
              "      <td>2021-03-31</td>\n",
              "      <td>79</td>\n",
              "    </tr>\n",
              "    <tr>\n",
              "      <th>97</th>\n",
              "      <td>2021-04-01</td>\n",
              "      <td>13</td>\n",
              "    </tr>\n",
              "    <tr>\n",
              "      <th>98</th>\n",
              "      <td>2021-04-02</td>\n",
              "      <td>85</td>\n",
              "    </tr>\n",
              "    <tr>\n",
              "      <th>99</th>\n",
              "      <td>2021-04-03</td>\n",
              "      <td>48</td>\n",
              "    </tr>\n",
              "  </tbody>\n",
              "</table>\n",
              "</div>"
            ],
            "text/plain": [
              "         date  value\n",
              "95 2021-03-30     23\n",
              "96 2021-03-31     79\n",
              "97 2021-04-01     13\n",
              "98 2021-04-02     85\n",
              "99 2021-04-03     48"
            ]
          },
          "metadata": {
            "tags": []
          },
          "execution_count": 4
        }
      ]
    },
    {
      "cell_type": "code",
      "metadata": {
        "colab": {
          "base_uri": "https://localhost:8080/",
          "height": 235
        },
        "id": "AuqRC3bQgRta",
        "outputId": "a56535e4-8967-45ed-a1a5-a272bca09e74"
      },
      "source": [
        "df[\"month\"] = df[\"date\"].dt.strftime(\"%Y-%m\")\r\n",
        "df.groupby(\"month\")[[\"value\"]].sum()"
      ],
      "execution_count": 11,
      "outputs": [
        {
          "output_type": "execute_result",
          "data": {
            "text/html": [
              "<div>\n",
              "<style scoped>\n",
              "    .dataframe tbody tr th:only-of-type {\n",
              "        vertical-align: middle;\n",
              "    }\n",
              "\n",
              "    .dataframe tbody tr th {\n",
              "        vertical-align: top;\n",
              "    }\n",
              "\n",
              "    .dataframe thead th {\n",
              "        text-align: right;\n",
              "    }\n",
              "</style>\n",
              "<table border=\"1\" class=\"dataframe\">\n",
              "  <thead>\n",
              "    <tr style=\"text-align: right;\">\n",
              "      <th></th>\n",
              "      <th>value</th>\n",
              "    </tr>\n",
              "    <tr>\n",
              "      <th>month</th>\n",
              "      <th></th>\n",
              "    </tr>\n",
              "  </thead>\n",
              "  <tbody>\n",
              "    <tr>\n",
              "      <th>2020-12</th>\n",
              "      <td>381</td>\n",
              "    </tr>\n",
              "    <tr>\n",
              "      <th>2021-01</th>\n",
              "      <td>1811</td>\n",
              "    </tr>\n",
              "    <tr>\n",
              "      <th>2021-02</th>\n",
              "      <td>985</td>\n",
              "    </tr>\n",
              "    <tr>\n",
              "      <th>2021-03</th>\n",
              "      <td>1500</td>\n",
              "    </tr>\n",
              "    <tr>\n",
              "      <th>2021-04</th>\n",
              "      <td>146</td>\n",
              "    </tr>\n",
              "  </tbody>\n",
              "</table>\n",
              "</div>"
            ],
            "text/plain": [
              "         value\n",
              "month         \n",
              "2020-12    381\n",
              "2021-01   1811\n",
              "2021-02    985\n",
              "2021-03   1500\n",
              "2021-04    146"
            ]
          },
          "metadata": {
            "tags": []
          },
          "execution_count": 11
        }
      ]
    },
    {
      "cell_type": "markdown",
      "metadata": {
        "id": "GXT4qjPuhX4D"
      },
      "source": [
        "## 연습 문제 5.1.1\r\n",
        "\r\n",
        "여러가지 함수를 사용하여 아래 조건에 맞는 그래프를 그린다.\r\n",
        "\r\n",
        "xlabel, ylabel, title을 모두 갖추고 있어야 한다.\r\n",
        "- 하나의 Figure(일단, 그림이라고 이해한다. 아래에 자세한 설명이 있다.)에 3개 이상의 Plot을 그린다.\r\n",
        "- 각 Plot은 다른 선, 마크, 색 스타일을 가진다.\r\n",
        "- legend는 그래프와 겹치지 않는 곳에 위치 시키도록 한다."
      ]
    },
    {
      "cell_type": "code",
      "metadata": {
        "colab": {
          "base_uri": "https://localhost:8080/",
          "height": 281
        },
        "id": "WVOo4awkhaPq",
        "outputId": "8e339636-1d6e-4ae3-8738-6ff6d1a3a2d5"
      },
      "source": [
        "X = np.linspace(-2 * np.pi, 2 * np.pi, 32)\r\n",
        "C, S, L = np.cos(X), np.sin(X), X\r\n",
        "\r\n",
        "plt.title(\"Trigonometric Functions\")\r\n",
        "plt.plot(X, C, ls=\"--\", label=\"y=cos(x)\", marker=\".\")\r\n",
        "plt.plot(X, S, ls=\":\", label=\"y=sin(x)\", marker=\"o\")\r\n",
        "plt.plot(X, L, label=\"y=x\", marker=\"1\")\r\n",
        "plt.legend(loc=2)\r\n",
        "plt.show()"
      ],
      "execution_count": 28,
      "outputs": [
        {
          "output_type": "display_data",
          "data": {
            "image/png": "[encoded data removed]",
            "text/plain": [
              "<Figure size 432x288 with 1 Axes>"
            ]
          },
          "metadata": {
            "tags": [],
            "needs_background": "light"
          }
        }
      ]
    },
    {
      "cell_type": "markdown",
      "metadata": {
        "id": "BHNjVzVgjAwl"
      },
      "source": [
        "## 연습 문제 5.1.2\r\n",
        "\r\n",
        "여러가지 함수를 사용하여 위와 같이 subplot들로 구성된 그림을 그려보자. 모든 subplot에 대해 xlabel, ylabel, title이 있어야 한다."
      ]
    },
    {
      "cell_type": "code",
      "metadata": {
        "colab": {
          "base_uri": "https://localhost:8080/",
          "height": 297
        },
        "id": "V6hmD6BshllV",
        "outputId": "502e83d0-8f71-48e9-bd4b-d255c84140d8"
      },
      "source": [
        "fig, axes = plt.subplots(2, 2)\r\n",
        "\r\n",
        "np.random.seed(125234)\r\n",
        "\r\n",
        "axes[0, 0].plot(np.random.rand(5))\r\n",
        "axes[0, 0].set_title(\"axes 1\")\r\n",
        "axes[0, 0].set_xlabel(\"x\")\r\n",
        "axes[0, 0].set_ylabel(\"y\")\r\n",
        "\r\n",
        "axes[0, 1].plot(np.random.rand(5))\r\n",
        "axes[0, 1].set_title(\"axes 2\")\r\n",
        "axes[0, 0].set_xlabel(\"x\")\r\n",
        "axes[0, 0].set_ylabel(\"y\")\r\n",
        "\r\n",
        "\r\n",
        "axes[1, 0].plot(np.random.rand(5))\r\n",
        "axes[1, 0].set_title(\"axes 3\")\r\n",
        "axes[0, 0].set_xlabel(\"x\")\r\n",
        "axes[0, 0].set_ylabel(\"y\")\r\n",
        "\r\n",
        "\r\n",
        "axes[1, 1].plot(np.random.rand(5))\r\n",
        "axes[1, 1].set_title(\"axes 4\")\r\n",
        "axes[0, 0].set_xlabel(\"x\")\r\n",
        "axes[0, 0].set_ylabel(\"y\")\r\n",
        "\r\n",
        "plt.tight_layout()\r\n",
        "plt.show()"
      ],
      "execution_count": 38,
      "outputs": [
        {
          "output_type": "display_data",
          "data": {
            "image/png": "[encoded data removed]",
            "text/plain": [
              "<Figure size 432x288 with 4 Axes>"
            ]
          },
          "metadata": {
            "tags": [],
            "needs_background": "light"
          }
        }
      ]
    }
  ]
}